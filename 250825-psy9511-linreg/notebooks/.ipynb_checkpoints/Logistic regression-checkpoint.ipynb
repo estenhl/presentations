{
 "cells": [
  {
   "cell_type": "code",
   "execution_count": null,
   "id": "92034a2d-d851-4945-833d-21683e4b4c41",
   "metadata": {},
   "outputs": [],
   "source": [
    "import numpy as np\n",
    "import pandas as pd\n",
    "from sklearn.linear_model import LogisticRegression\n",
    "\n",
    "df = pd.read_csv('~/Downloads/Auto.csv')\n",
    "\n",
    "# Here, we retrieve the first token (e.g. the first word) from\n",
    "# the text string stored in the \"name\" column as a proxy\n",
    "# for car make\n",
    "df['make'] = df['name'].apply(lambda x: x.split()[0])\n",
    "\n",
    "# Next, to do a binary regression, we only retain the rows that are\n",
    "# either chevrolets or fords\n",
    "binary = df[df['make'].isin(['chevrolet', 'ford'])]\n",
    "print(binary)"
   ]
  },
  {
   "cell_type": "code",
   "execution_count": null,
   "id": "109198e2-6aaa-4404-9b43-b301d95d6471",
   "metadata": {},
   "outputs": [],
   "source": []
  }
 ],
 "metadata": {
  "kernelspec": {
   "display_name": "Python 3 (ipykernel)",
   "language": "python",
   "name": "python3"
  },
  "language_info": {
   "codemirror_mode": {
    "name": "ipython",
    "version": 3
   },
   "file_extension": ".py",
   "mimetype": "text/x-python",
   "name": "python",
   "nbconvert_exporter": "python",
   "pygments_lexer": "ipython3",
   "version": "3.13.5"
  }
 },
 "nbformat": 4,
 "nbformat_minor": 5
}
