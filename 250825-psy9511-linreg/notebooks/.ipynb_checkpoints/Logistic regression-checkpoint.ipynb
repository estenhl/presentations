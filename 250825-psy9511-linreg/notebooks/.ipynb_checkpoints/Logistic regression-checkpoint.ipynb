{
 "cells": [
  {
   "cell_type": "code",
   "execution_count": 5,
   "id": "92034a2d-d851-4945-833d-21683e4b4c41",
   "metadata": {},
   "outputs": [
    {
     "name": "stdout",
     "output_type": "stream",
     "text": [
      "      mpg  cylinders  displacement  horsepower  weight  acceleration  year  \\\n",
      "0    18.0          8         307.0         130    3504          12.0    70   \n",
      "4    17.0          8         302.0         140    3449          10.5    70   \n",
      "5    15.0          8         429.0         198    4341          10.0    70   \n",
      "6    14.0          8         454.0         220    4354           9.0    70   \n",
      "12   15.0          8         400.0         150    3761           9.5    70   \n",
      "..    ...        ...           ...         ...     ...           ...   ...   \n",
      "368  24.0          4         140.0          92    2865          16.4    82   \n",
      "383  22.0          6         232.0         112    2835          14.7    82   \n",
      "386  27.0          4         151.0          90    2950          17.3    82   \n",
      "387  27.0          4         140.0          86    2790          15.6    82   \n",
      "390  28.0          4         120.0          79    2625          18.6    82   \n",
      "\n",
      "     origin                       name       make  \n",
      "0         1  chevrolet chevelle malibu  chevrolet  \n",
      "4         1                ford torino       ford  \n",
      "5         1           ford galaxie 500       ford  \n",
      "6         1           chevrolet impala  chevrolet  \n",
      "12        1      chevrolet monte carlo  chevrolet  \n",
      "..      ...                        ...        ...  \n",
      "368       1       ford fairmont futura       ford  \n",
      "383       1             ford granada l       ford  \n",
      "386       1           chevrolet camaro  chevrolet  \n",
      "387       1            ford mustang gl       ford  \n",
      "390       1                ford ranger       ford  \n",
      "\n",
      "[91 rows x 10 columns]\n",
      "Accuracy: 0.5384615384615384\n"
     ]
    }
   ],
   "source": [
    "import numpy as np\n",
    "import pandas as pd\n",
    "from sklearn.linear_model import LogisticRegression\n",
    "from sklearn.metrics import accuracy_score\n",
    "\n",
    "df = pd.read_csv('~/Downloads/Auto.csv')\n",
    "\n",
    "# Here, we retrieve the first token (e.g. the first word) from\n",
    "# the text string stored in the \"name\" column as a proxy\n",
    "# for car make\n",
    "df['make'] = df['name'].apply(lambda x: x.split()[0])\n",
    "\n",
    "# Next, to do a binary regression, we only retain the rows that are\n",
    "# either chevrolets or fords\n",
    "binary = df[df['make'].isin(['chevrolet', 'ford'])]\n",
    "print(binary)\n",
    "\n",
    "predictors = ['mpg', 'weight', 'horsepower']\n",
    "\n",
    "# Then we fit a logistic regression and test its accuracy\n",
    "model = LogisticRegression()\n",
    "model.fit(binary[predictors], binary['make'])\n",
    "accuracy = accuracy_score(binary['make'], model.predict(binary[predictors]))\n",
    "print(f'Accuracy: {accuracy}')"
   ]
  },
  {
   "cell_type": "code",
   "execution_count": null,
   "id": "109198e2-6aaa-4404-9b43-b301d95d6471",
   "metadata": {},
   "outputs": [],
   "source": []
  }
 ],
 "metadata": {
  "kernelspec": {
   "display_name": "Python 3 (ipykernel)",
   "language": "python",
   "name": "python3"
  },
  "language_info": {
   "codemirror_mode": {
    "name": "ipython",
    "version": 3
   },
   "file_extension": ".py",
   "mimetype": "text/x-python",
   "name": "python",
   "nbconvert_exporter": "python",
   "pygments_lexer": "ipython3",
   "version": "3.13.5"
  }
 },
 "nbformat": 4,
 "nbformat_minor": 5
}
