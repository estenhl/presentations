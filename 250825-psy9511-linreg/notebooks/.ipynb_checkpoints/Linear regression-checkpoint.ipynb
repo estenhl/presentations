{
 "cells": [
  {
   "cell_type": "markdown",
   "id": "d301f3e4-8015-4333-9bfb-2ac831a881e1",
   "metadata": {},
   "source": [
    "### Read in the data frame"
   ]
  },
  {
   "cell_type": "code",
   "execution_count": null,
   "id": "9f3963a2-2a82-47dc-ac8e-0f33deb39758",
   "metadata": {},
   "outputs": [],
   "source": []
  },
  {
   "cell_type": "markdown",
   "id": "d8a464a4-fc10-4755-b1fd-174fe1bcd9ff",
   "metadata": {},
   "source": [
    "### Fit a linear regression model"
   ]
  },
  {
   "cell_type": "code",
   "execution_count": null,
   "id": "e1eec127-75eb-47fc-b311-3a0d5ca7a5f2",
   "metadata": {},
   "outputs": [],
   "source": []
  },
  {
   "cell_type": "markdown",
   "id": "62bcb58b-e651-4446-a256-754af1ee7836",
   "metadata": {},
   "source": [
    "### Plot the predictions of the model"
   ]
  },
  {
   "cell_type": "code",
   "execution_count": null,
   "id": "f0d73e90-a78c-432f-828b-2bf4f1f33a5f",
   "metadata": {},
   "outputs": [],
   "source": []
  },
  {
   "cell_type": "markdown",
   "id": "5c053374-1af0-4c0e-a008-6810002bffef",
   "metadata": {},
   "source": [
    "### Print the intercept and coefficients"
   ]
  },
  {
   "cell_type": "code",
   "execution_count": null,
   "id": "02419934-f81c-40b3-8be4-ac495c5ab423",
   "metadata": {},
   "outputs": [],
   "source": []
  },
  {
   "cell_type": "markdown",
   "id": "e5aaa003-571d-4ff0-bf1e-be698265e020",
   "metadata": {},
   "source": [
    "### Fit a multivariate linear regression model"
   ]
  },
  {
   "cell_type": "code",
   "execution_count": null,
   "id": "3abc504b-993e-44cd-9180-5abec14eaaa6",
   "metadata": {},
   "outputs": [],
   "source": []
  },
  {
   "cell_type": "markdown",
   "id": "a061f97c-9574-4544-92c7-a357e67635b8",
   "metadata": {},
   "source": [
    "### Demonstrate k-nearest neighbours"
   ]
  },
  {
   "cell_type": "code",
   "execution_count": null,
   "id": "57b52447-71c7-4ea0-9b4e-f0e070c9f936",
   "metadata": {},
   "outputs": [],
   "source": []
  }
 ],
 "metadata": {
  "kernelspec": {
   "display_name": "Python 3 (ipykernel)",
   "language": "python",
   "name": "python3"
  },
  "language_info": {
   "codemirror_mode": {
    "name": "ipython",
    "version": 3
   },
   "file_extension": ".py",
   "mimetype": "text/x-python",
   "name": "python",
   "nbconvert_exporter": "python",
   "pygments_lexer": "ipython3",
   "version": "3.13.5"
  }
 },
 "nbformat": 4,
 "nbformat_minor": 5
}
