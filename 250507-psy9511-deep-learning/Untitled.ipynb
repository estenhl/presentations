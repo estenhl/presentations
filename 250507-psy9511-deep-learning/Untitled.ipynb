{
 "cells": [
  {
   "cell_type": "code",
   "execution_count": 2,
   "id": "c60494d8-0b97-4cc9-ad47-c0f0f6582d47",
   "metadata": {},
   "outputs": [],
   "source": [
    "from tensorflow.keras.layers import Input, Dense\n",
    "from tensorflow.keras import Model\n",
    "\n",
    "\n",
    "inputs = Input(shape=(2,))\n",
    "hidden1 = Dense(units=3, activation='relu')(inputs)\n",
    "hidden2 = Dense(units=3, activation='relu')(hidden1)\n",
    "outputs = Dense(units=1, activation=None)(hidden2)\n",
    "\n",
    "model = Model(inputs, outputs)\n",
    "model.compile(loss='mean_squared_error')"
   ]
  },
  {
   "cell_type": "code",
   "execution_count": null,
   "id": "b72bc822-d5f7-468a-9e4f-ef6d35dc185c",
   "metadata": {},
   "outputs": [],
   "source": []
  }
 ],
 "metadata": {
  "kernelspec": {
   "display_name": "Python 3 (ipykernel)",
   "language": "python",
   "name": "python3"
  },
  "language_info": {
   "codemirror_mode": {
    "name": "ipython",
    "version": 3
   },
   "file_extension": ".py",
   "mimetype": "text/x-python",
   "name": "python",
   "nbconvert_exporter": "python",
   "pygments_lexer": "ipython3",
   "version": "3.12.4"
  }
 },
 "nbformat": 4,
 "nbformat_minor": 5
}
