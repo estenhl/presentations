{
 "cells": [
  {
   "cell_type": "code",
   "execution_count": 45,
   "id": "507784f3-1195-41ae-8a75-0e64a1b64c98",
   "metadata": {},
   "outputs": [
    {
     "name": "stdout",
     "output_type": "stream",
     "text": [
      "[-0.          0.00371868 -0.00531814 -0.0068867   0.          0.75111613]\n",
      "[-0.          0.00343341 -0.00526136 -0.00686772  0.          0.74231003]\n",
      "[-0.          0.00314816 -0.005206   -0.00684868  0.          0.73350147]\n",
      "[-0.          0.0028628  -0.00515179 -0.0068296   0.          0.72469062]\n",
      "[-0.          0.0025777  -0.00509711 -0.00681055  0.          0.71588134]\n",
      "[-0.          0.00229298 -0.00504198 -0.00679157  0.          0.70707384]\n",
      "[-0.          0.00200753 -0.00498902 -0.00677243  0.          0.69826058]\n",
      "[-0.          0.00172221 -0.0049355  -0.00675332  0.          0.68944864]\n",
      "[-0.          0.001437   -0.00488136 -0.00673424  0.          0.68063807]\n",
      "[-0.          0.001152   -0.00482692 -0.0067152   0.          0.67182861]\n"
     ]
    }
   ],
   "source": [
    "import pandas as pd\n",
    "\n",
    "from sklearn.linear_model import Lasso\n",
    "from sklearn.metrics import mean_squared_error\n",
    "\n",
    "\n",
    "df = pd.read_csv('~/Downloads/Auto.csv')\n",
    "df = df[df['horsepower'] != '?']\n",
    "df = df.sample(frac=1.)\n",
    "\n",
    "train_len = int(len(df) * 0.8)\n",
    "train = df[:train_len]\n",
    "validation = df[train_len:]\n",
    "\n",
    "train_X = train[['cylinders', 'displacement', 'horsepower', 'weight', 'acceleration', 'year']]\n",
    "train_y = train['mpg']\n",
    "\n",
    "validation_X = validation[['cylinders', 'displacement', 'horsepower', 'weight', 'acceleration', 'year']]\n",
    "validation_y = validation['mpg']\n",
    "\n",
    "train_aucs = []\n",
    "test_aucs = []\n",
    "\n",
    "values = np.linspace(0.1, 1, 10)\n",
    "\n",
    "for value in values:\n",
    "    model = Lasso(value)\n",
    "    model.fit(train_X, train_y)\n",
    "    train_preds = model.predict(train_X)\n",
    "    test_preds = model.predict(validation_X)\n",
    "    train_aucs.append(mean_absolute_error(train_y, train_preds))\n",
    "    test_aucs.append(mean_absolute_error(validation_y, test_preds))\n",
    "    print(model.coef_)"
   ]
  },
  {
   "cell_type": "code",
   "execution_count": 46,
   "id": "e84c6d89",
   "metadata": {},
   "outputs": [
    {
     "data": {
      "image/png": "[encoded data removed]",
      "text/plain": [
       "<Figure size 432x288 with 1 Axes>"
      ]
     },
     "metadata": {
      "needs_background": "light"
     },
     "output_type": "display_data"
    }
   ],
   "source": [
    "import matplotlib.pyplot as plt\n",
    "import numpy as np\n",
    "\n",
    "plt.plot(values, train_aucs, label='Train')\n",
    "plt.plot(values, test_aucs, label='Test')\n",
    "plt.legend()\n",
    "plt.show()"
   ]
  },
  {
   "cell_type": "code",
   "execution_count": 40,
   "id": "abd59098",
   "metadata": {},
   "outputs": [
    {
     "name": "stdout",
     "output_type": "stream",
     "text": [
      "[2.5857350440681404, 2.584182855533854, 2.5824348047440835, 2.58148142195987, 2.580699713712632, 2.5801994060846853, 2.5799346958466707, 2.5800245343761947, 2.580325894267875, 2.5806273593017566]\n"
     ]
    }
   ],
   "source": [
    "print(train_aucs)"
   ]
  },
  {
   "cell_type": "code",
   "execution_count": null,
   "id": "65d4f51f",
   "metadata": {},
   "outputs": [],
   "source": []
  }
 ],
 "metadata": {
  "kernelspec": {
   "display_name": "Python 3 (ipykernel)",
   "language": "python",
   "name": "python3"
  },
  "language_info": {
   "codemirror_mode": {
    "name": "ipython",
    "version": 3
   },
   "file_extension": ".py",
   "mimetype": "text/x-python",
   "name": "python",
   "nbconvert_exporter": "python",
   "pygments_lexer": "ipython3",
   "version": "3.9.16"
  }
 },
 "nbformat": 4,
 "nbformat_minor": 5
}
