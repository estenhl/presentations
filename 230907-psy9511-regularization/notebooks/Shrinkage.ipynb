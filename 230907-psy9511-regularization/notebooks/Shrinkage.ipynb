{
 "cells": [
  {
   "cell_type": "code",
   "execution_count": 5,
   "id": "8374014d",
   "metadata": {},
   "outputs": [
    {
     "name": "stdout",
     "output_type": "stream",
     "text": [
      "cylinders: 5.47 (1.70)\n",
      "displacement: 194.41 (104.51)\n",
      "horsepower: 104.47 (38.44)\n",
      "weight: 2977.58 (848.32)\n",
      "acceleration: 15.54 (2.76)\n",
      "year: 75.98 (3.68)\n",
      "cylinders after: -0.00 (1.00)\n",
      "displacement after: -0.00 (1.00)\n",
      "horsepower after: -0.00 (1.00)\n",
      "weight after: -0.00 (1.00)\n",
      "acceleration after: 0.00 (1.00)\n",
      "year after: -0.00 (1.00)\n"
     ]
    }
   ],
   "source": [
    "import numpy as np\n",
    "import pandas as pd\n",
    "\n",
    "df = pd.read_csv('/Users/esten/Downloads/Auto.csv')\n",
    "df = df[df['horsepower'] != '?']\n",
    "df['horsepower'] = df['horsepower'].astype(int)\n",
    "\n",
    "predictors = ['cylinders', 'displacement', 'horsepower', 'weight', 'acceleration', 'year']\n",
    "target = 'mpg'\n",
    "\n",
    "for col in predictors:\n",
    "    print(f'{col}: {np.mean(df[col]):.2f} ({np.std(df[col]):.2f})')\n",
    "\n",
    "# z-score standardization\n",
    "for col in predictors:\n",
    "    df[col] = (df[col] - np.mean(df[col])) / np.std(df[col])\n",
    "    \n",
    "for col in predictors:\n",
    "    print(f'{col} after: {np.mean(df[col]):.2f} ({np.std(df[col]):.2f})')"
   ]
  },
  {
   "cell_type": "code",
   "execution_count": null,
   "id": "0427ab55",
   "metadata": {},
   "outputs": [],
   "source": []
  }
 ],
 "metadata": {
  "kernelspec": {
   "display_name": "Python 3 (ipykernel)",
   "language": "python",
   "name": "python3"
  },
  "language_info": {
   "codemirror_mode": {
    "name": "ipython",
    "version": 3
   },
   "file_extension": ".py",
   "mimetype": "text/x-python",
   "name": "python",
   "nbconvert_exporter": "python",
   "pygments_lexer": "ipython3",
   "version": "3.10.9"
  }
 },
 "nbformat": 4,
 "nbformat_minor": 5
}
