{
 "cells": [
  {
   "cell_type": "code",
   "execution_count": 17,
   "id": "2f876003-6b84-47d8-a7ea-c5bb7d0e0c2e",
   "metadata": {},
   "outputs": [
    {
     "name": "stdout",
     "output_type": "stream",
     "text": [
      "Index(['Income', 'Limit', 'Rating', 'Cards', 'Age', 'Education', 'Balance',\n",
      "       'Own_No', 'Own_Yes', 'Student_No', 'Student_Yes', 'Married_No',\n",
      "       'Married_Yes', 'Region_East', 'Region_South', 'Region_West'],\n",
      "      dtype='object')\n"
     ]
    },
    {
     "data": {
      "image/png": "[encoded data removed]",
      "text/plain": [
       "<Figure size 640x480 with 1 Axes>"
      ]
     },
     "metadata": {},
     "output_type": "display_data"
    }
   ],
   "source": [
    "import pandas as pd\n",
    "from sklearn.linear_model import LinearRegression\n",
    "from sklearn.preprocessing import StandardScaler\n",
    "import matplotlib.pyplot as plt\n",
    "\n",
    "\n",
    "df = pd.read_csv('~/Downloads/Credit.csv')\n",
    "df = pd.get_dummies(df)\n",
    "print(df.columns)\n",
    "\n",
    "for col in df.columns:\n",
    "    if '_' in col:\n",
    "        df[col] = df[col].astype(int)\n",
    "df\n",
    "model = LinearRegression()\n",
    "\n",
    "columns = ['Limit', 'Income', 'Rating', 'Cards', 'Age', 'Education', 'Own_No', 'Own_Yes', 'Student_No', 'Student_Yes',\n",
    "          'Married_No', 'Married_Yes', 'Region_East', 'Region_South', 'Region_West']\n",
    "\n",
    "X = df[['Limit', 'Income', 'Rating', 'Cards', 'Age', 'Education', 'Own_No', 'Own_Yes', 'Student_No', 'Student_Yes',\n",
    "        'Married_No', 'Married_Yes', 'Region_East', 'Region_South', 'Region_West']]\n",
    "y = df['Balance']\n",
    "X = StandardScaler().fit_transform(X)\n",
    "model = LinearRegression()\n",
    "model.fit(X, y)\n",
    "preds = model.predict(X)\n",
    "plt.scatter(y, preds)\n",
    "plt.show()"
   ]
  },
  {
   "cell_type": "code",
   "execution_count": 22,
   "id": "b511505c-bb95-4cd4-8997-86e0a1f4fdf6",
   "metadata": {},
   "outputs": [],
   "source": [
    "import numpy as np\n",
    "\n",
    "correlations = pd.DataFrame(np.corrcoef(df.loc[df['Balance'] > 0, columns + ['Balance']].values.T), \n",
    "                            index=columns+['Balance'], columns=columns+['Balance'])"
   ]
  },
  {
   "cell_type": "code",
   "execution_count": 23,
   "id": "047586a1-1917-4604-b118-888795c0ffe2",
   "metadata": {},
   "outputs": [
    {
     "data": {
      "text/html": [
       "<div>\n",
       "<style scoped>\n",
       "    .dataframe tbody tr th:only-of-type {\n",
       "        vertical-align: middle;\n",
       "    }\n",
       "\n",
       "    .dataframe tbody tr th {\n",
       "        vertical-align: top;\n",
       "    }\n",
       "\n",
       "    .dataframe thead th {\n",
       "        text-align: right;\n",
       "    }\n",
       "</style>\n",
       "<table border=\"1\" class=\"dataframe\">\n",
       "  <thead>\n",
       "    <tr style=\"text-align: right;\">\n",
       "      <th></th>\n",
       "      <th>Limit</th>\n",
       "      <th>Income</th>\n",
       "      <th>Rating</th>\n",
       "      <th>Cards</th>\n",
       "      <th>Age</th>\n",
       "      <th>Education</th>\n",
       "      <th>Own_No</th>\n",
       "      <th>Own_Yes</th>\n",
       "      <th>Student_No</th>\n",
       "      <th>Student_Yes</th>\n",
       "      <th>Married_No</th>\n",
       "      <th>Married_Yes</th>\n",
       "      <th>Region_East</th>\n",
       "      <th>Region_South</th>\n",
       "      <th>Region_West</th>\n",
       "      <th>Balance</th>\n",
       "    </tr>\n",
       "  </thead>\n",
       "  <tbody>\n",
       "    <tr>\n",
       "      <th>Limit</th>\n",
       "      <td>1.000000</td>\n",
       "      <td>0.833706</td>\n",
       "      <td>0.996091</td>\n",
       "      <td>-0.022540</td>\n",
       "      <td>0.164160</td>\n",
       "      <td>-0.031583</td>\n",
       "      <td>0.037479</td>\n",
       "      <td>-0.037479</td>\n",
       "      <td>0.128538</td>\n",
       "      <td>-0.128538</td>\n",
       "      <td>-0.027618</td>\n",
       "      <td>0.027618</td>\n",
       "      <td>0.032118</td>\n",
       "      <td>-0.034412</td>\n",
       "      <td>0.007660</td>\n",
       "      <td>0.795757</td>\n",
       "    </tr>\n",
       "    <tr>\n",
       "      <th>Income</th>\n",
       "      <td>0.833706</td>\n",
       "      <td>1.000000</td>\n",
       "      <td>0.830651</td>\n",
       "      <td>-0.040318</td>\n",
       "      <td>0.227115</td>\n",
       "      <td>-0.032540</td>\n",
       "      <td>0.021187</td>\n",
       "      <td>-0.021187</td>\n",
       "      <td>0.018829</td>\n",
       "      <td>-0.018829</td>\n",
       "      <td>-0.035209</td>\n",
       "      <td>0.035209</td>\n",
       "      <td>0.050538</td>\n",
       "      <td>-0.043412</td>\n",
       "      <td>-0.000537</td>\n",
       "      <td>0.414373</td>\n",
       "    </tr>\n",
       "    <tr>\n",
       "      <th>Rating</th>\n",
       "      <td>0.996091</td>\n",
       "      <td>0.830651</td>\n",
       "      <td>1.000000</td>\n",
       "      <td>0.024991</td>\n",
       "      <td>0.167269</td>\n",
       "      <td>-0.040466</td>\n",
       "      <td>0.035413</td>\n",
       "      <td>-0.035413</td>\n",
       "      <td>0.122168</td>\n",
       "      <td>-0.122168</td>\n",
       "      <td>-0.034104</td>\n",
       "      <td>0.034104</td>\n",
       "      <td>0.030544</td>\n",
       "      <td>-0.031207</td>\n",
       "      <td>0.005503</td>\n",
       "      <td>0.798441</td>\n",
       "    </tr>\n",
       "    <tr>\n",
       "      <th>Cards</th>\n",
       "      <td>-0.022540</td>\n",
       "      <td>-0.040318</td>\n",
       "      <td>0.024991</td>\n",
       "      <td>1.000000</td>\n",
       "      <td>0.020615</td>\n",
       "      <td>-0.087351</td>\n",
       "      <td>0.011200</td>\n",
       "      <td>-0.011200</td>\n",
       "      <td>0.026456</td>\n",
       "      <td>-0.026456</td>\n",
       "      <td>0.001775</td>\n",
       "      <td>-0.001775</td>\n",
       "      <td>-0.019562</td>\n",
       "      <td>0.002309</td>\n",
       "      <td>0.017205</td>\n",
       "      <td>0.074416</td>\n",
       "    </tr>\n",
       "    <tr>\n",
       "      <th>Age</th>\n",
       "      <td>0.164160</td>\n",
       "      <td>0.227115</td>\n",
       "      <td>0.167269</td>\n",
       "      <td>0.020615</td>\n",
       "      <td>1.000000</td>\n",
       "      <td>0.023899</td>\n",
       "      <td>-0.010058</td>\n",
       "      <td>0.010058</td>\n",
       "      <td>0.023400</td>\n",
       "      <td>-0.023400</td>\n",
       "      <td>0.022040</td>\n",
       "      <td>-0.022040</td>\n",
       "      <td>0.058262</td>\n",
       "      <td>-0.032730</td>\n",
       "      <td>-0.020925</td>\n",
       "      <td>0.008343</td>\n",
       "    </tr>\n",
       "    <tr>\n",
       "      <th>Education</th>\n",
       "      <td>-0.031583</td>\n",
       "      <td>-0.032540</td>\n",
       "      <td>-0.040466</td>\n",
       "      <td>-0.087351</td>\n",
       "      <td>0.023899</td>\n",
       "      <td>1.000000</td>\n",
       "      <td>0.010611</td>\n",
       "      <td>-0.010611</td>\n",
       "      <td>-0.077099</td>\n",
       "      <td>0.077099</td>\n",
       "      <td>-0.083458</td>\n",
       "      <td>0.083458</td>\n",
       "      <td>-0.037620</td>\n",
       "      <td>-0.032785</td>\n",
       "      <td>0.076741</td>\n",
       "      <td>0.001001</td>\n",
       "    </tr>\n",
       "    <tr>\n",
       "      <th>Own_No</th>\n",
       "      <td>0.037479</td>\n",
       "      <td>0.021187</td>\n",
       "      <td>0.035413</td>\n",
       "      <td>0.011200</td>\n",
       "      <td>-0.010058</td>\n",
       "      <td>0.010611</td>\n",
       "      <td>1.000000</td>\n",
       "      <td>-1.000000</td>\n",
       "      <td>0.063201</td>\n",
       "      <td>-0.063201</td>\n",
       "      <td>0.010738</td>\n",
       "      <td>-0.010738</td>\n",
       "      <td>0.052385</td>\n",
       "      <td>-0.011681</td>\n",
       "      <td>-0.039627</td>\n",
       "      <td>0.017192</td>\n",
       "    </tr>\n",
       "    <tr>\n",
       "      <th>Own_Yes</th>\n",
       "      <td>-0.037479</td>\n",
       "      <td>-0.021187</td>\n",
       "      <td>-0.035413</td>\n",
       "      <td>-0.011200</td>\n",
       "      <td>0.010058</td>\n",
       "      <td>-0.010611</td>\n",
       "      <td>-1.000000</td>\n",
       "      <td>1.000000</td>\n",
       "      <td>-0.063201</td>\n",
       "      <td>0.063201</td>\n",
       "      <td>-0.010738</td>\n",
       "      <td>0.010738</td>\n",
       "      <td>-0.052385</td>\n",
       "      <td>0.011681</td>\n",
       "      <td>0.039627</td>\n",
       "      <td>-0.017192</td>\n",
       "    </tr>\n",
       "    <tr>\n",
       "      <th>Student_No</th>\n",
       "      <td>0.128538</td>\n",
       "      <td>0.018829</td>\n",
       "      <td>0.122168</td>\n",
       "      <td>0.026456</td>\n",
       "      <td>0.023400</td>\n",
       "      <td>-0.077099</td>\n",
       "      <td>0.063201</td>\n",
       "      <td>-0.063201</td>\n",
       "      <td>1.000000</td>\n",
       "      <td>-1.000000</td>\n",
       "      <td>-0.103269</td>\n",
       "      <td>0.103269</td>\n",
       "      <td>-0.004194</td>\n",
       "      <td>0.075446</td>\n",
       "      <td>-0.084205</td>\n",
       "      <td>-0.209602</td>\n",
       "    </tr>\n",
       "    <tr>\n",
       "      <th>Student_Yes</th>\n",
       "      <td>-0.128538</td>\n",
       "      <td>-0.018829</td>\n",
       "      <td>-0.122168</td>\n",
       "      <td>-0.026456</td>\n",
       "      <td>-0.023400</td>\n",
       "      <td>0.077099</td>\n",
       "      <td>-0.063201</td>\n",
       "      <td>0.063201</td>\n",
       "      <td>-1.000000</td>\n",
       "      <td>1.000000</td>\n",
       "      <td>0.103269</td>\n",
       "      <td>-0.103269</td>\n",
       "      <td>0.004194</td>\n",
       "      <td>-0.075446</td>\n",
       "      <td>0.084205</td>\n",
       "      <td>0.209602</td>\n",
       "    </tr>\n",
       "    <tr>\n",
       "      <th>Married_No</th>\n",
       "      <td>-0.027618</td>\n",
       "      <td>-0.035209</td>\n",
       "      <td>-0.034104</td>\n",
       "      <td>0.001775</td>\n",
       "      <td>0.022040</td>\n",
       "      <td>-0.083458</td>\n",
       "      <td>0.010738</td>\n",
       "      <td>-0.010738</td>\n",
       "      <td>-0.103269</td>\n",
       "      <td>0.103269</td>\n",
       "      <td>1.000000</td>\n",
       "      <td>-1.000000</td>\n",
       "      <td>0.127222</td>\n",
       "      <td>-0.041756</td>\n",
       "      <td>-0.080538</td>\n",
       "      <td>0.031086</td>\n",
       "    </tr>\n",
       "    <tr>\n",
       "      <th>Married_Yes</th>\n",
       "      <td>0.027618</td>\n",
       "      <td>0.035209</td>\n",
       "      <td>0.034104</td>\n",
       "      <td>-0.001775</td>\n",
       "      <td>-0.022040</td>\n",
       "      <td>0.083458</td>\n",
       "      <td>-0.010738</td>\n",
       "      <td>0.010738</td>\n",
       "      <td>0.103269</td>\n",
       "      <td>-0.103269</td>\n",
       "      <td>-1.000000</td>\n",
       "      <td>1.000000</td>\n",
       "      <td>-0.127222</td>\n",
       "      <td>0.041756</td>\n",
       "      <td>0.080538</td>\n",
       "      <td>-0.031086</td>\n",
       "    </tr>\n",
       "    <tr>\n",
       "      <th>Region_East</th>\n",
       "      <td>0.032118</td>\n",
       "      <td>0.050538</td>\n",
       "      <td>0.030544</td>\n",
       "      <td>-0.019562</td>\n",
       "      <td>0.058262</td>\n",
       "      <td>-0.037620</td>\n",
       "      <td>0.052385</td>\n",
       "      <td>-0.052385</td>\n",
       "      <td>-0.004194</td>\n",
       "      <td>0.004194</td>\n",
       "      <td>0.127222</td>\n",
       "      <td>-0.127222</td>\n",
       "      <td>1.000000</td>\n",
       "      <td>-0.591167</td>\n",
       "      <td>-0.324686</td>\n",
       "      <td>0.004174</td>\n",
       "    </tr>\n",
       "    <tr>\n",
       "      <th>Region_South</th>\n",
       "      <td>-0.034412</td>\n",
       "      <td>-0.043412</td>\n",
       "      <td>-0.031207</td>\n",
       "      <td>0.002309</td>\n",
       "      <td>-0.032730</td>\n",
       "      <td>-0.032785</td>\n",
       "      <td>-0.011681</td>\n",
       "      <td>0.011681</td>\n",
       "      <td>0.075446</td>\n",
       "      <td>-0.075446</td>\n",
       "      <td>-0.041756</td>\n",
       "      <td>0.041756</td>\n",
       "      <td>-0.591167</td>\n",
       "      <td>1.000000</td>\n",
       "      <td>-0.570909</td>\n",
       "      <td>-0.044269</td>\n",
       "    </tr>\n",
       "    <tr>\n",
       "      <th>Region_West</th>\n",
       "      <td>0.007660</td>\n",
       "      <td>-0.000537</td>\n",
       "      <td>0.005503</td>\n",
       "      <td>0.017205</td>\n",
       "      <td>-0.020925</td>\n",
       "      <td>0.076741</td>\n",
       "      <td>-0.039627</td>\n",
       "      <td>0.039627</td>\n",
       "      <td>-0.084205</td>\n",
       "      <td>0.084205</td>\n",
       "      <td>-0.080538</td>\n",
       "      <td>0.080538</td>\n",
       "      <td>-0.324686</td>\n",
       "      <td>-0.570909</td>\n",
       "      <td>1.000000</td>\n",
       "      <td>0.047665</td>\n",
       "    </tr>\n",
       "    <tr>\n",
       "      <th>Balance</th>\n",
       "      <td>0.795757</td>\n",
       "      <td>0.414373</td>\n",
       "      <td>0.798441</td>\n",
       "      <td>0.074416</td>\n",
       "      <td>0.008343</td>\n",
       "      <td>0.001001</td>\n",
       "      <td>0.017192</td>\n",
       "      <td>-0.017192</td>\n",
       "      <td>-0.209602</td>\n",
       "      <td>0.209602</td>\n",
       "      <td>0.031086</td>\n",
       "      <td>-0.031086</td>\n",
       "      <td>0.004174</td>\n",
       "      <td>-0.044269</td>\n",
       "      <td>0.047665</td>\n",
       "      <td>1.000000</td>\n",
       "    </tr>\n",
       "  </tbody>\n",
       "</table>\n",
       "</div>"
      ],
      "text/plain": [
       "                 Limit    Income    Rating     Cards       Age  Education  \\\n",
       "Limit         1.000000  0.833706  0.996091 -0.022540  0.164160  -0.031583   \n",
       "Income        0.833706  1.000000  0.830651 -0.040318  0.227115  -0.032540   \n",
       "Rating        0.996091  0.830651  1.000000  0.024991  0.167269  -0.040466   \n",
       "Cards        -0.022540 -0.040318  0.024991  1.000000  0.020615  -0.087351   \n",
       "Age           0.164160  0.227115  0.167269  0.020615  1.000000   0.023899   \n",
       "Education    -0.031583 -0.032540 -0.040466 -0.087351  0.023899   1.000000   \n",
       "Own_No        0.037479  0.021187  0.035413  0.011200 -0.010058   0.010611   \n",
       "Own_Yes      -0.037479 -0.021187 -0.035413 -0.011200  0.010058  -0.010611   \n",
       "Student_No    0.128538  0.018829  0.122168  0.026456  0.023400  -0.077099   \n",
       "Student_Yes  -0.128538 -0.018829 -0.122168 -0.026456 -0.023400   0.077099   \n",
       "Married_No   -0.027618 -0.035209 -0.034104  0.001775  0.022040  -0.083458   \n",
       "Married_Yes   0.027618  0.035209  0.034104 -0.001775 -0.022040   0.083458   \n",
       "Region_East   0.032118  0.050538  0.030544 -0.019562  0.058262  -0.037620   \n",
       "Region_South -0.034412 -0.043412 -0.031207  0.002309 -0.032730  -0.032785   \n",
       "Region_West   0.007660 -0.000537  0.005503  0.017205 -0.020925   0.076741   \n",
       "Balance       0.795757  0.414373  0.798441  0.074416  0.008343   0.001001   \n",
       "\n",
       "                Own_No   Own_Yes  Student_No  Student_Yes  Married_No  \\\n",
       "Limit         0.037479 -0.037479    0.128538    -0.128538   -0.027618   \n",
       "Income        0.021187 -0.021187    0.018829    -0.018829   -0.035209   \n",
       "Rating        0.035413 -0.035413    0.122168    -0.122168   -0.034104   \n",
       "Cards         0.011200 -0.011200    0.026456    -0.026456    0.001775   \n",
       "Age          -0.010058  0.010058    0.023400    -0.023400    0.022040   \n",
       "Education     0.010611 -0.010611   -0.077099     0.077099   -0.083458   \n",
       "Own_No        1.000000 -1.000000    0.063201    -0.063201    0.010738   \n",
       "Own_Yes      -1.000000  1.000000   -0.063201     0.063201   -0.010738   \n",
       "Student_No    0.063201 -0.063201    1.000000    -1.000000   -0.103269   \n",
       "Student_Yes  -0.063201  0.063201   -1.000000     1.000000    0.103269   \n",
       "Married_No    0.010738 -0.010738   -0.103269     0.103269    1.000000   \n",
       "Married_Yes  -0.010738  0.010738    0.103269    -0.103269   -1.000000   \n",
       "Region_East   0.052385 -0.052385   -0.004194     0.004194    0.127222   \n",
       "Region_South -0.011681  0.011681    0.075446    -0.075446   -0.041756   \n",
       "Region_West  -0.039627  0.039627   -0.084205     0.084205   -0.080538   \n",
       "Balance       0.017192 -0.017192   -0.209602     0.209602    0.031086   \n",
       "\n",
       "              Married_Yes  Region_East  Region_South  Region_West   Balance  \n",
       "Limit            0.027618     0.032118     -0.034412     0.007660  0.795757  \n",
       "Income           0.035209     0.050538     -0.043412    -0.000537  0.414373  \n",
       "Rating           0.034104     0.030544     -0.031207     0.005503  0.798441  \n",
       "Cards           -0.001775    -0.019562      0.002309     0.017205  0.074416  \n",
       "Age             -0.022040     0.058262     -0.032730    -0.020925  0.008343  \n",
       "Education        0.083458    -0.037620     -0.032785     0.076741  0.001001  \n",
       "Own_No          -0.010738     0.052385     -0.011681    -0.039627  0.017192  \n",
       "Own_Yes          0.010738    -0.052385      0.011681     0.039627 -0.017192  \n",
       "Student_No       0.103269    -0.004194      0.075446    -0.084205 -0.209602  \n",
       "Student_Yes     -0.103269     0.004194     -0.075446     0.084205  0.209602  \n",
       "Married_No      -1.000000     0.127222     -0.041756    -0.080538  0.031086  \n",
       "Married_Yes      1.000000    -0.127222      0.041756     0.080538 -0.031086  \n",
       "Region_East     -0.127222     1.000000     -0.591167    -0.324686  0.004174  \n",
       "Region_South     0.041756    -0.591167      1.000000    -0.570909 -0.044269  \n",
       "Region_West      0.080538    -0.324686     -0.570909     1.000000  0.047665  \n",
       "Balance         -0.031086     0.004174     -0.044269     0.047665  1.000000  "
      ]
     },
     "execution_count": 23,
     "metadata": {},
     "output_type": "execute_result"
    }
   ],
   "source": [
    "correlations"
   ]
  },
  {
   "cell_type": "code",
   "execution_count": 20,
   "id": "1205f87e-839d-4f90-8dd1-56fb8aa0c636",
   "metadata": {},
   "outputs": [
    {
     "name": "stdout",
     "output_type": "stream",
     "text": [
      "Limit: 82.30325456393771\n",
      "Income: 152.29140625\n",
      "Rating: 78.24639832427503\n",
      "Cards: 79.84905092532635\n",
      "Age: 77.8591729306955\n",
      "Education: 77.9175383055526\n",
      "Own_No: 79.02751326887508\n",
      "Own_Yes: 79.02751326887508\n",
      "Student_No: 77.83757386560131\n",
      "Student_Yes: 77.8375738656012\n",
      "Married_No: 77.8375738656012\n",
      "Married_Yes: 77.83757386560116\n",
      "Region_East: 77.83757386560126\n",
      "Region_South: 77.83757386560129\n",
      "Region_West: 77.83757386560126\n"
     ]
    },
    {
     "data": {
      "text/plain": [
       "<Figure size 640x480 with 0 Axes>"
      ]
     },
     "metadata": {},
     "output_type": "display_data"
    },
    {
     "data": {
      "text/plain": [
       "<Figure size 640x480 with 0 Axes>"
      ]
     },
     "metadata": {},
     "output_type": "display_data"
    },
    {
     "data": {
      "text/plain": [
       "<Figure size 640x480 with 0 Axes>"
      ]
     },
     "metadata": {},
     "output_type": "display_data"
    },
    {
     "data": {
      "text/plain": [
       "<Figure size 640x480 with 0 Axes>"
      ]
     },
     "metadata": {},
     "output_type": "display_data"
    },
    {
     "data": {
      "text/plain": [
       "<Figure size 640x480 with 0 Axes>"
      ]
     },
     "metadata": {},
     "output_type": "display_data"
    },
    {
     "data": {
      "text/plain": [
       "<Figure size 640x480 with 0 Axes>"
      ]
     },
     "metadata": {},
     "output_type": "display_data"
    },
    {
     "data": {
      "text/plain": [
       "<Figure size 640x480 with 0 Axes>"
      ]
     },
     "metadata": {},
     "output_type": "display_data"
    },
    {
     "data": {
      "text/plain": [
       "<Figure size 640x480 with 0 Axes>"
      ]
     },
     "metadata": {},
     "output_type": "display_data"
    },
    {
     "data": {
      "text/plain": [
       "<Figure size 640x480 with 0 Axes>"
      ]
     },
     "metadata": {},
     "output_type": "display_data"
    },
    {
     "data": {
      "text/plain": [
       "<Figure size 640x480 with 0 Axes>"
      ]
     },
     "metadata": {},
     "output_type": "display_data"
    },
    {
     "data": {
      "text/plain": [
       "<Figure size 640x480 with 0 Axes>"
      ]
     },
     "metadata": {},
     "output_type": "display_data"
    },
    {
     "data": {
      "text/plain": [
       "<Figure size 640x480 with 0 Axes>"
      ]
     },
     "metadata": {},
     "output_type": "display_data"
    },
    {
     "data": {
      "text/plain": [
       "<Figure size 640x480 with 0 Axes>"
      ]
     },
     "metadata": {},
     "output_type": "display_data"
    },
    {
     "data": {
      "text/plain": [
       "<Figure size 640x480 with 0 Axes>"
      ]
     },
     "metadata": {},
     "output_type": "display_data"
    },
    {
     "data": {
      "text/plain": [
       "<Figure size 640x480 with 0 Axes>"
      ]
     },
     "metadata": {},
     "output_type": "display_data"
    }
   ],
   "source": [
    "from sklearn.metrics import mean_absolute_error\n",
    "\n",
    "\n",
    "for column in columns:\n",
    "    X = df[[col for col in columns if col != column]]\n",
    "    y = df['Balance']\n",
    "    \n",
    "    X = StandardScaler().fit_transform(X)\n",
    "    model = LinearRegression()\n",
    "    model.fit(X, y)\n",
    "    preds = model.predict(X)\n",
    "    mae = mean_absolute_error(preds, y)\n",
    "\n",
    "    fig = plt.figure()\n",
    "    fig.suptitle(column)\n",
    "    #plt.scatter(y, preds)\n",
    "    #plt.show()\n",
    "    \n",
    "    print(f'{column}: {mae}')"
   ]
  },
  {
   "cell_type": "code",
   "execution_count": null,
   "id": "4a8d0c9c-b8ea-42e5-b054-fa895d4ba673",
   "metadata": {},
   "outputs": [],
   "source": []
  }
 ],
 "metadata": {
  "kernelspec": {
   "display_name": "Python 3 (ipykernel)",
   "language": "python",
   "name": "python3"
  },
  "language_info": {
   "codemirror_mode": {
    "name": "ipython",
    "version": 3
   },
   "file_extension": ".py",
   "mimetype": "text/x-python",
   "name": "python",
   "nbconvert_exporter": "python",
   "pygments_lexer": "ipython3",
   "version": "3.12.4"
  }
 },
 "nbformat": 4,
 "nbformat_minor": 5
}
