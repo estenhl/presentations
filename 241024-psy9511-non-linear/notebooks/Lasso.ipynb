{
 "cells": [
  {
   "cell_type": "code",
   "execution_count": 1,
   "id": "88f76c90-ac7a-4a07-89a7-7091edf5fddc",
   "metadata": {},
   "outputs": [
    {
     "name": "stdout",
     "output_type": "stream",
     "text": [
      "      mpg  cylinders  displacement  horsepower  weight  acceleration  year  \\\n",
      "0    18.0          8         307.0       130.0    3504          12.0    70   \n",
      "1    15.0          8         350.0       165.0    3693          11.5    70   \n",
      "2    18.0          8         318.0       150.0    3436          11.0    70   \n",
      "3    16.0          8         304.0       150.0    3433          12.0    70   \n",
      "4    17.0          8         302.0       140.0    3449          10.5    70   \n",
      "..    ...        ...           ...         ...     ...           ...   ...   \n",
      "392  27.0          4         140.0        86.0    2790          15.6    82   \n",
      "393  44.0          4          97.0        52.0    2130          24.6    82   \n",
      "394  32.0          4         135.0        84.0    2295          11.6    82   \n",
      "395  28.0          4         120.0        79.0    2625          18.6    82   \n",
      "396  31.0          4         119.0        82.0    2720          19.4    82   \n",
      "\n",
      "     origin                       name  \n",
      "0         1  chevrolet chevelle malibu  \n",
      "1         1          buick skylark 320  \n",
      "2         1         plymouth satellite  \n",
      "3         1              amc rebel sst  \n",
      "4         1                ford torino  \n",
      "..      ...                        ...  \n",
      "392       1            ford mustang gl  \n",
      "393       2                  vw pickup  \n",
      "394       1              dodge rampage  \n",
      "395       1                ford ranger  \n",
      "396       1                 chevy s-10  \n",
      "\n",
      "[397 rows x 9 columns]\n",
      "Using 317 samples for training and 80 for testing\n"
     ]
    },
    {
     "name": "stderr",
     "output_type": "stream",
     "text": [
      "/tmp/ipykernel_1155344/4198312716.py:24: SettingWithCopyWarning: \n",
      "A value is trying to be set on a copy of a slice from a DataFrame.\n",
      "Try using .loc[row_indexer,col_indexer] = value instead\n",
      "\n",
      "See the caveats in the documentation: https://pandas.pydata.org/pandas-docs/stable/user_guide/indexing.html#returning-a-view-versus-a-copy\n",
      "  train[predictors] = scaler.fit_transform(train[predictors])\n",
      "/tmp/ipykernel_1155344/4198312716.py:25: SettingWithCopyWarning: \n",
      "A value is trying to be set on a copy of a slice from a DataFrame.\n",
      "Try using .loc[row_indexer,col_indexer] = value instead\n",
      "\n",
      "See the caveats in the documentation: https://pandas.pydata.org/pandas-docs/stable/user_guide/indexing.html#returning-a-view-versus-a-copy\n",
      "  test[predictors] = scaler.transform(test[predictors])\n"
     ]
    }
   ],
   "source": [
    "import numpy as np\n",
    "import pandas as pd\n",
    "\n",
    "from sklearn.preprocessing import StandardScaler\n",
    "\n",
    "\n",
    "predictors = ['cylinders', 'displacement', 'horsepower',\n",
    "              'weight', 'acceleration', 'year']\n",
    "target = 'mpg'\n",
    "\n",
    "df = pd.read_csv('https://www.statlearning.com/s/Auto.csv', na_values='?')\n",
    "print(df)\n",
    "df = df[predictors + [target]]\n",
    "\n",
    "df = df.sample(frac=1.)\n",
    "train = df[:int(len(df) * 0.8)]\n",
    "test = df[int(len(df) * 0.8):]\n",
    "print(f'Using {len(train)} samples for training and {len(test)} for testing')\n",
    "\n",
    "test.loc[np.isnan(df['horsepower']), 'horsepower'] = np.nanmean(test['horsepower'])\n",
    "train.loc[np.isnan(df['horsepower']), 'horsepower'] = np.nanmean(train['horsepower'])\n",
    "\n",
    "scaler = StandardScaler()\n",
    "train[predictors] = scaler.fit_transform(train[predictors])\n",
    "test[predictors] = scaler.transform(test[predictors])"
   ]
  },
  {
   "cell_type": "code",
   "execution_count": 9,
   "id": "3e9e17c7-e31c-448d-bcb0-7eeb8ffd1130",
   "metadata": {},
   "outputs": [
    {
     "data": {
      "image/png": "[encoded data removed]",
      "text/plain": [
       "<Figure size 640x480 with 1 Axes>"
      ]
     },
     "metadata": {},
     "output_type": "display_data"
    }
   ],
   "source": [
    "import matplotlib.pyplot as plt\n",
    "\n",
    "from sklearn.linear_model import Lasso\n",
    "from sklearn.metrics import mean_absolute_error\n",
    "\n",
    "lambdas = np.arange(5, 10, 0.5)\n",
    "train_maes = []\n",
    "test_maes = []\n",
    "\n",
    "for l in lambdas:\n",
    "    model = Lasso(l)\n",
    "    model.fit(train[predictors], train[target])\n",
    "    train_predictions = model.predict(train[predictors])\n",
    "    train_maes.append(mean_absolute_error(train[target], train_predictions))\n",
    "    test_predictions = model.predict(test[predictors])\n",
    "    test_maes.append(mean_absolute_error(test[target], test_predictions))\n",
    "\n",
    "plt.plot(lambdas, train_maes, label='Train')\n",
    "plt.plot(lambdas, test_maes, label='Test')\n",
    "plt.legend()\n",
    "plt.show()"
   ]
  },
  {
   "cell_type": "code",
   "execution_count": null,
   "id": "f9ca7eb0-c777-469f-9f57-64c1b09ce483",
   "metadata": {},
   "outputs": [],
   "source": []
  }
 ],
 "metadata": {
  "kernelspec": {
   "display_name": "Python 3 (ipykernel)",
   "language": "python",
   "name": "python3"
  },
  "language_info": {
   "codemirror_mode": {
    "name": "ipython",
    "version": 3
   },
   "file_extension": ".py",
   "mimetype": "text/x-python",
   "name": "python",
   "nbconvert_exporter": "python",
   "pygments_lexer": "ipython3",
   "version": "3.12.4"
  }
 },
 "nbformat": 4,
 "nbformat_minor": 5
}
