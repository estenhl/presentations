{
 "cells": [
  {
   "cell_type": "code",
   "execution_count": null,
   "id": "eb3aa34d-53a2-40dc-9a49-2f242d1bb23c",
   "metadata": {},
   "outputs": [],
   "source": [
    "import matplotlib.pyplot as plt\n",
    "import numpy as np\n",
    "\n",
    "\n",
    "\n",
    "np.random.seed(42)\n",
    "x = np.arange(0, 2*np.pi+np.pi/4, 2*np.pi/16)\n",
    "y =  np.sin(x) + 0.4*np.random.normal(size=len(x))\n",
    "\n",
    "plt.scatter(x, y)"
   ]
  },
  {
   "cell_type": "code",
   "execution_count": null,
   "id": "2f47f325-b7cb-4b28-b0ba-363abb2a0db0",
   "metadata": {},
   "outputs": [],
   "source": [
    "from scipy.interpolate import make_smoothing_spline\n",
    "\n",
    "\n",
    "spline = make_smoothing_spline(x, y, lam=0)\n",
    "values = np.linspace(np.amin(x), np.amax(x), 100)\n",
    "\n",
    "plt.scatter(x, y)\n",
    "plt.plot(values, spline(values))"
   ]
  },
  {
   "cell_type": "code",
   "execution_count": null,
   "id": "1c102b1e-19b3-453c-a234-8c729bb34a50",
   "metadata": {},
   "outputs": [],
   "source": [
    "values = np.linspace(np.amin(x), np.amax(x), 100)\n",
    "\n",
    "for l in np.arange(0, 10, 1):\n",
    "    spline = make_smoothing_spline(x, y, lam=l)\n",
    "    plt.scatter(x, y)\n",
    "    plt.plot(values, spline(values), label=f'l={l}')\n",
    "\n",
    "plt.legend()"
   ]
  },
  {
   "cell_type": "code",
   "execution_count": null,
   "id": "a5f93a33-8a9f-4288-b893-84aa2e16a89d",
   "metadata": {},
   "outputs": [],
   "source": []
  },
  {
   "cell_type": "code",
   "execution_count": null,
   "id": "10c5576a-7c90-4284-8217-a6380f277e75",
   "metadata": {},
   "outputs": [],
   "source": []
  }
 ],
 "metadata": {
  "kernelspec": {
   "display_name": "Python 3 (ipykernel)",
   "language": "python",
   "name": "python3"
  },
  "language_info": {
   "codemirror_mode": {
    "name": "ipython",
    "version": 3
   },
   "file_extension": ".py",
   "mimetype": "text/x-python",
   "name": "python",
   "nbconvert_exporter": "python",
   "pygments_lexer": "ipython3",
   "version": "3.12.4"
  }
 },
 "nbformat": 4,
 "nbformat_minor": 5
}
