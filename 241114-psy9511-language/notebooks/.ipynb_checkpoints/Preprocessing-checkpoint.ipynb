{
 "cells": [
  {
   "cell_type": "code",
   "execution_count": 15,
   "id": "f585557b",
   "metadata": {},
   "outputs": [
    {
     "name": "stderr",
     "output_type": "stream",
     "text": [
      "[nltk_data] Downloading package punkt to /Users/esten/nltk_data...\n",
      "[nltk_data]   Package punkt is already up-to-date!\n",
      "[nltk_data] Downloading package wordnet to /Users/esten/nltk_data...\n",
      "[nltk_data]   Package wordnet is already up-to-date!\n",
      "[nltk_data] Downloading package stopwords to /Users/esten/nltk_data...\n",
      "[nltk_data]   Unzipping corpora/stopwords.zip.\n"
     ]
    }
   ],
   "source": [
    "import nltk\n",
    "\n",
    "\n",
    "nltk.download('punkt')\n",
    "nltk.download('wordnet')\n",
    "nltk.download('stopwords')\n",
    "\n",
    "s = 'The movie was great, the actors were awesome.'"
   ]
  },
  {
   "cell_type": "code",
   "execution_count": 38,
   "id": "a4a5c463",
   "metadata": {},
   "outputs": [
    {
     "name": "stdout",
     "output_type": "stream",
     "text": [
      "['<s>', 'the', 'movie', 'was', 'great', ',', 'the', 'actors', 'were', 'awesome', '.', '<e>']\n"
     ]
    }
   ],
   "source": [
    "from nltk.tokenize import word_tokenize\n",
    "\n",
    "tokens = word_tokenize(s)\n",
    "tokens = [token.lower() for token in tokens]\n",
    "tokens = ['<s>'] + tokens + ['<e>']\n",
    "print(tokens)"
   ]
  },
  {
   "cell_type": "code",
   "execution_count": 39,
   "id": "b8631c95",
   "metadata": {},
   "outputs": [
    {
     "name": "stdout",
     "output_type": "stream",
     "text": [
      "['<s>', 'the', 'movi', 'was', 'great', ',', 'the', 'actor', 'were', 'awesom', '.', '<e>']\n"
     ]
    }
   ],
   "source": [
    "from nltk.stem.snowball import SnowballStemmer\n",
    "\n",
    "stemmer = SnowballStemmer('english')\n",
    "stemmed = [stemmer.stem(token) for token in tokens]\n",
    "print(stemmed)"
   ]
  },
  {
   "cell_type": "code",
   "execution_count": 36,
   "id": "45631aeb",
   "metadata": {},
   "outputs": [
    {
     "data": {
      "text/plain": [
       "['<s>',\n",
       " 'the',\n",
       " 'movie',\n",
       " 'wa',\n",
       " 'great',\n",
       " ',',\n",
       " 'the',\n",
       " 'actor',\n",
       " 'were',\n",
       " 'awesome',\n",
       " '.',\n",
       " '<e>']"
      ]
     },
     "execution_count": 36,
     "metadata": {},
     "output_type": "execute_result"
    }
   ],
   "source": [
    "from nltk.stem import WordNetLemmatizer\n",
    "\n",
    "lemmatizer = WordNetLemmatizer()\n",
    "lemmatized = [lemmatizer.lemmatize(token) for token in tokens]\n",
    "print(lemmatized)"
   ]
  },
  {
   "cell_type": "code",
   "execution_count": 37,
   "id": "8754bdfb",
   "metadata": {},
   "outputs": [
    {
     "data": {
      "text/plain": [
       "['<s>', 'movie', 'great', ',', 'actors', 'awesome', '.', '<e>']"
      ]
     },
     "execution_count": 37,
     "metadata": {},
     "output_type": "execute_result"
    }
   ],
   "source": [
    "from nltk.corpus import stopwords\n",
    "\n",
    "pruned = [token for token in tokens if not token.lower() in stopwords.words('english')]\n",
    "pruned"
   ]
  },
  {
   "cell_type": "code",
   "execution_count": 33,
   "id": "53097f3d",
   "metadata": {},
   "outputs": [
    {
     "name": "stdout",
     "output_type": "stream",
     "text": [
      "[',', '.', 'actors', 'awesome', 'awful', 'great', 'horrible', 'hotels', 'movie', 'the', 'trip', 'was', 'were']\n",
      "[[9, 8, 11, 5, 0, 9, 2, 12, 3, 1], [9, 8, 11, 6, 0, 9, 2, 12, 4, 1], [9, 10, 11, 5, 0, 9, 7, 12, 3, 1]]\n"
     ]
    }
   ],
   "source": [
    "from functools import reduce\n",
    "\n",
    "\n",
    "sentences = [\n",
    "    'The movie was great, the actors were awesome.',\n",
    "    'The movie was horrible, the actors were awful.',\n",
    "    'The trip was great, the hotels were awesome.'\n",
    "]\n",
    "\n",
    "tokens = [word_tokenize(sentence) for sentence in sentences]\n",
    "tokens = [[token.lower() for token in sentence] for sentence in tokens]\n",
    "dictionary = sorted(set(reduce(lambda x, y: x + y, tokens)))\n",
    "print(dictionary)\n",
    "encoded = [[dictionary.index(token) for token in sentence] for sentence in tokens]\n",
    "print(encoded)"
   ]
  },
  {
   "cell_type": "code",
   "execution_count": null,
   "id": "3f078067",
   "metadata": {},
   "outputs": [],
   "source": []
  }
 ],
 "metadata": {
  "kernelspec": {
   "display_name": "Python 3 (ipykernel)",
   "language": "python",
   "name": "python3"
  },
  "language_info": {
   "codemirror_mode": {
    "name": "ipython",
    "version": 3
   },
   "file_extension": ".py",
   "mimetype": "text/x-python",
   "name": "python",
   "nbconvert_exporter": "python",
   "pygments_lexer": "ipython3",
   "version": "3.10.9"
  }
 },
 "nbformat": 4,
 "nbformat_minor": 5
}
