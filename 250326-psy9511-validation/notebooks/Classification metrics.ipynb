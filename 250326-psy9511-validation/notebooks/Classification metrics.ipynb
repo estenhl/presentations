{
 "cells": [
  {
   "cell_type": "code",
   "execution_count": 1,
   "id": "4702cb74-fd7d-4664-afba-89d9830e669f",
   "metadata": {},
   "outputs": [],
   "source": [
    "import pandas as pd\n",
    "import numpy as np\n",
    "\n",
    "\n",
    "df = pd.read_csv('~/Downloads/Auto.csv')\n",
    "df = df[df['horsepower'] != '?']\n",
    "df['horsepower'] = df['horsepower'].astype(float)\n",
    "df['muscle'] = df['horsepower'].apply(lambda x: 0 if x < np.mean(df['horsepower']) else 1)\n",
    "\n",
    "df = df.sort_values('muscle')\n",
    "df['fold'] = np.arange(len(df)) % 5\n",
    "\n",
    "train = df[df['fold'] != 2]\n",
    "test = df[df['fold'] == 2]"
   ]
  },
  {
   "cell_type": "code",
   "execution_count": 2,
   "id": "e8398541-8ae7-4613-939c-78fa3333fb88",
   "metadata": {},
   "outputs": [],
   "source": [
    "from sklearn.linear_model import LogisticRegression\n",
    "\n",
    "\n",
    "model = LogisticRegression()\n",
    "model.fit(train[['weight', 'year', 'displacement', 'cylinders']], train['muscle'])\n",
    "test_predictions = model.predict_proba(test[['weight', 'year', 'displacement', 'cylinders']])"
   ]
  },
  {
   "cell_type": "code",
   "execution_count": 8,
   "id": "08151a74-905a-4e8d-b262-70215706a6b1",
   "metadata": {},
   "outputs": [
    {
     "data": {
      "text/plain": [
       "0.9166666666666666"
      ]
     },
     "execution_count": 8,
     "metadata": {},
     "output_type": "execute_result"
    }
   ],
   "source": [
    "from sklearn.metrics import roc_auc_score, balanced_accuracy_score, precision_score\n",
    "import numpy as np\n",
    "\n",
    "\n",
    "precision_score(test['muscle'], np.round(test_predictions[:,1]))"
   ]
  },
  {
   "cell_type": "code",
   "execution_count": 4,
   "id": "17bed31a-5d53-43b9-a738-1bd5ccd86345",
   "metadata": {},
   "outputs": [
    {
     "data": {
      "text/plain": [
       "array([[0.63730548, 0.36269452],\n",
       "       [0.99014335, 0.00985665],\n",
       "       [0.98176843, 0.01823157],\n",
       "       [0.62969261, 0.37030739],\n",
       "       [0.95143218, 0.04856782],\n",
       "       [0.93216871, 0.06783129],\n",
       "       [0.96966556, 0.03033444],\n",
       "       [0.96171567, 0.03828433],\n",
       "       [0.97235962, 0.02764038],\n",
       "       [0.90009643, 0.09990357],\n",
       "       [0.55306547, 0.44693453],\n",
       "       [0.66615292, 0.33384708],\n",
       "       [0.97463009, 0.02536991],\n",
       "       [0.86664748, 0.13335252],\n",
       "       [0.57509784, 0.42490216],\n",
       "       [0.97701974, 0.02298026],\n",
       "       [0.98148213, 0.01851787],\n",
       "       [0.96137725, 0.03862275],\n",
       "       [0.95869375, 0.04130625],\n",
       "       [0.972229  , 0.027771  ],\n",
       "       [0.98671206, 0.01328794],\n",
       "       [0.97872876, 0.02127124],\n",
       "       [0.98825387, 0.01174613],\n",
       "       [0.98428763, 0.01571237],\n",
       "       [0.98712762, 0.01287238],\n",
       "       [0.98013533, 0.01986467],\n",
       "       [0.95979519, 0.04020481],\n",
       "       [0.95844588, 0.04155412],\n",
       "       [0.98193923, 0.01806077],\n",
       "       [0.99144929, 0.00855071],\n",
       "       [0.97681663, 0.02318337],\n",
       "       [0.98974476, 0.01025524],\n",
       "       [0.97536845, 0.02463155],\n",
       "       [0.94340971, 0.05659029],\n",
       "       [0.44445349, 0.55554651],\n",
       "       [0.97111154, 0.02888846],\n",
       "       [0.98183203, 0.01816797],\n",
       "       [0.97999308, 0.02000692],\n",
       "       [0.97534601, 0.02465399],\n",
       "       [0.45475524, 0.54524476],\n",
       "       [0.99020093, 0.00979907],\n",
       "       [0.692013  , 0.307987  ],\n",
       "       [0.97552598, 0.02447402],\n",
       "       [0.97987932, 0.02012068],\n",
       "       [0.87748978, 0.12251022],\n",
       "       [0.95042653, 0.04957347],\n",
       "       [0.97161905, 0.02838095],\n",
       "       [0.97093667, 0.02906333],\n",
       "       [0.98498402, 0.01501598],\n",
       "       [0.01336323, 0.98663677],\n",
       "       [0.02130672, 0.97869328],\n",
       "       [0.01468634, 0.98531366],\n",
       "       [0.7445011 , 0.2554989 ],\n",
       "       [0.66955402, 0.33044598],\n",
       "       [0.02561189, 0.97438811],\n",
       "       [0.7707882 , 0.2292118 ],\n",
       "       [0.00445738, 0.99554262],\n",
       "       [0.01010353, 0.98989647],\n",
       "       [0.09754664, 0.90245336],\n",
       "       [0.01878113, 0.98121887],\n",
       "       [0.04042457, 0.95957543],\n",
       "       [0.02617775, 0.97382225],\n",
       "       [0.59813715, 0.40186285],\n",
       "       [0.02428337, 0.97571663],\n",
       "       [0.60472591, 0.39527409],\n",
       "       [0.01319732, 0.98680268],\n",
       "       [0.9409579 , 0.0590421 ],\n",
       "       [0.01907575, 0.98092425],\n",
       "       [0.02308834, 0.97691166],\n",
       "       [0.36261631, 0.63738369],\n",
       "       [0.0085149 , 0.9914851 ],\n",
       "       [0.05731101, 0.94268899],\n",
       "       [0.06180188, 0.93819812],\n",
       "       [0.06349458, 0.93650542],\n",
       "       [0.97426213, 0.02573787],\n",
       "       [0.01414037, 0.98585963],\n",
       "       [0.33991982, 0.66008018],\n",
       "       [0.03587605, 0.96412395]])"
      ]
     },
     "execution_count": 4,
     "metadata": {},
     "output_type": "execute_result"
    }
   ],
   "source": []
  },
  {
   "cell_type": "code",
   "execution_count": null,
   "id": "11fd005e-1a2e-473d-b793-17c02999634f",
   "metadata": {},
   "outputs": [],
   "source": []
  }
 ],
 "metadata": {
  "kernelspec": {
   "display_name": "Python 3 (ipykernel)",
   "language": "python",
   "name": "python3"
  },
  "language_info": {
   "codemirror_mode": {
    "name": "ipython",
    "version": 3
   },
   "file_extension": ".py",
   "mimetype": "text/x-python",
   "name": "python",
   "nbconvert_exporter": "python",
   "pygments_lexer": "ipython3",
   "version": "3.12.4"
  }
 },
 "nbformat": 4,
 "nbformat_minor": 5
}
