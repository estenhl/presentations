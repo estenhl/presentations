{
 "cells": [
  {
   "cell_type": "code",
   "execution_count": 6,
   "id": "4702cb74-fd7d-4664-afba-89d9830e669f",
   "metadata": {},
   "outputs": [],
   "source": [
    "import pandas as pd\n",
    "import numpy as np\n",
    "\n",
    "\n",
    "df = pd.read_csv('~/Downloads/Auto.csv')\n",
    "df = df[df['horsepower'] != '?']\n",
    "df['horsepower'] = df['horsepower'].astype(float)\n",
    "df['muscle'] = df['horsepower'].apply(lambda x: 0 if x < np.mean(df['horsepower']) else 1)\n",
    "\n",
    "df = df.sort_values('muscle')\n",
    "df['fold'] = np.arange(len(df)) % 5\n",
    "\n",
    "train = df[df['fold'] != 2]\n",
    "test = df[df['fold'] == 2]"
   ]
  },
  {
   "cell_type": "code",
   "execution_count": 7,
   "id": "e8398541-8ae7-4613-939c-78fa3333fb88",
   "metadata": {},
   "outputs": [],
   "source": [
    "from sklearn.linear_model import LogisticRegression\n",
    "\n",
    "\n",
    "model = LogisticRegression()\n",
    "model.fit(train[['weight', 'year', 'displacement', 'cylinders']], train['muscle'])\n",
    "test_predictions = model.predict_proba(test[['weight', 'year', 'displacement', 'cylinders']])"
   ]
  },
  {
   "cell_type": "code",
   "execution_count": 9,
   "id": "08151a74-905a-4e8d-b262-70215706a6b1",
   "metadata": {},
   "outputs": [
    {
     "data": {
      "text/plain": [
       "0.85890218156228"
      ]
     },
     "execution_count": 9,
     "metadata": {},
     "output_type": "execute_result"
    }
   ],
   "source": []
  },
  {
   "cell_type": "code",
   "execution_count": null,
   "id": "17bed31a-5d53-43b9-a738-1bd5ccd86345",
   "metadata": {},
   "outputs": [],
   "source": []
  }
 ],
 "metadata": {
  "kernelspec": {
   "display_name": "Python 3 (ipykernel)",
   "language": "python",
   "name": "python3"
  },
  "language_info": {
   "codemirror_mode": {
    "name": "ipython",
    "version": 3
   },
   "file_extension": ".py",
   "mimetype": "text/x-python",
   "name": "python",
   "nbconvert_exporter": "python",
   "pygments_lexer": "ipython3",
   "version": "3.12.4"
  }
 },
 "nbformat": 4,
 "nbformat_minor": 5
}
