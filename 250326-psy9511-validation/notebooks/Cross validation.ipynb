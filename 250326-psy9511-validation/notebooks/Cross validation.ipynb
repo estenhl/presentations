{
 "cells": [
  {
   "cell_type": "code",
   "execution_count": 16,
   "id": "8d915527-d69d-460a-93fd-23545bca52c3",
   "metadata": {},
   "outputs": [],
   "source": [
    "import pandas as pd\n",
    "import numpy as np\n",
    "\n",
    "\n",
    "df = pd.read_csv('~/Downloads/Auto.csv')\n",
    "df = df[df['horsepower'] != '?']\n",
    "df['horsepower'] = df['horsepower'].astype(float)"
   ]
  },
  {
   "cell_type": "code",
   "execution_count": 5,
   "id": "823f3d14-bbcd-4ad8-9b35-feba95b04a09",
   "metadata": {},
   "outputs": [
    {
     "name": "stdout",
     "output_type": "stream",
     "text": [
      "392\n",
      "79\n",
      "79\n",
      "78\n",
      "78\n",
      "78\n"
     ]
    }
   ],
   "source": [
    "df['fold'] = np.arange(len(df)) % 5\n",
    "folds = [df[df['fold'] == i] for i in range(5)]\n",
    "print(len(df))\n",
    "\n",
    "for fold in folds:\n",
    "    print(len(fold))"
   ]
  },
  {
   "cell_type": "code",
   "execution_count": 19,
   "id": "4e9112ea-f0f4-4cda-aea6-519fa3c4103e",
   "metadata": {},
   "outputs": [
    {
     "name": "stdout",
     "output_type": "stream",
     "text": [
      "3.2583724349435874\n"
     ]
    }
   ],
   "source": [
    "from sklearn.metrics import mean_absolute_error\n",
    "from sklearn.linear_model import Lasso\n",
    "import numpy as np\n",
    "\n",
    "def cross_validate(folds, model):\n",
    "    maes = []\n",
    "    \n",
    "    for iteration in range(5):\n",
    "        train = pd.concat([fold for idx, fold in enumerate(folds) if idx != iteration])\n",
    "        validation = folds[iteration]\n",
    "\n",
    "        model.fit(train[['weight', 'year', 'displacement']], train['mpg'])\n",
    "        predictions = model.predict(validation[['weight', 'year', 'displacement']])\n",
    "        mae = mean_absolute_error(validation['mpg'], predictions)\n",
    "        maes.append(mae)\n",
    "\n",
    "    return np.mean(maes)\n",
    "\n",
    "print(cross_validate(folds, Lasso(alpha=10)))"
   ]
  },
  {
   "cell_type": "code",
   "execution_count": null,
   "id": "6c26d9f5-c039-47c1-aec9-96a6dcc3a871",
   "metadata": {},
   "outputs": [],
   "source": []
  }
 ],
 "metadata": {
  "kernelspec": {
   "display_name": "Python 3 (ipykernel)",
   "language": "python",
   "name": "python3"
  },
  "language_info": {
   "codemirror_mode": {
    "name": "ipython",
    "version": 3
   },
   "file_extension": ".py",
   "mimetype": "text/x-python",
   "name": "python",
   "nbconvert_exporter": "python",
   "pygments_lexer": "ipython3",
   "version": "3.12.4"
  }
 },
 "nbformat": 4,
 "nbformat_minor": 5
}
