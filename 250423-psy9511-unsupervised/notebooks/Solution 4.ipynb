{
 "cells": [
  {
   "cell_type": "markdown",
   "id": "7b1074bd-9319-41a0-9679-2a10a011819a",
   "metadata": {},
   "source": [
    "### 0. Prepare the dataset for the subsequent modelling.\n",
    "1. Download the heart disease dataset from https://www.statlearning.com/s/Heart.csv\n",
    "2. Load the dataset and drop all variables except the predictors Age, Sex, ChestPain, RestBP, Chol, and the target variable AHD. Drop all rows containing a NaN value.\n",
    "3. Onehot encode the variable ChestPain. This means that where you before had a single column with one of four values ['typical', 'asymptomatic', 'nonanginal', 'nontypical'], you will now have four binary columns (their names don't matter), akin to 'ChestPain_typical' 'ChestPain_asymptomatic', 'ChestPain_nonanginal', 'ChestPain_nontypical'. A row that before had ChestPain='typical' will now have ChestPain_typical=1 and the other three columns set to 0, ChestPain='asymptomatic' will have ChestPain_asymptomatic=1 and the other three set to 0, etc.\n",
    "4. Binary encode the target variable AHD such that 'No'=0 and 'Yes'=1."
   ]
  },
  {
   "cell_type": "code",
   "execution_count": 1,
   "id": "4549978f-4e28-4edd-bef9-aa114a306ae1",
   "metadata": {},
   "outputs": [
    {
     "data": {
      "text/html": [
       "<div>\n",
       "<style scoped>\n",
       "    .dataframe tbody tr th:only-of-type {\n",
       "        vertical-align: middle;\n",
       "    }\n",
       "\n",
       "    .dataframe tbody tr th {\n",
       "        vertical-align: top;\n",
       "    }\n",
       "\n",
       "    .dataframe thead th {\n",
       "        text-align: right;\n",
       "    }\n",
       "</style>\n",
       "<table border=\"1\" class=\"dataframe\">\n",
       "  <thead>\n",
       "    <tr style=\"text-align: right;\">\n",
       "      <th></th>\n",
       "      <th>Age</th>\n",
       "      <th>Sex</th>\n",
       "      <th>RestBP</th>\n",
       "      <th>Chol</th>\n",
       "      <th>AHD</th>\n",
       "      <th>ChestPain_asymptomatic</th>\n",
       "      <th>ChestPain_nonanginal</th>\n",
       "      <th>ChestPain_nontypical</th>\n",
       "      <th>ChestPain_typical</th>\n",
       "    </tr>\n",
       "  </thead>\n",
       "  <tbody>\n",
       "    <tr>\n",
       "      <th>0</th>\n",
       "      <td>63</td>\n",
       "      <td>1</td>\n",
       "      <td>145</td>\n",
       "      <td>233</td>\n",
       "      <td>0</td>\n",
       "      <td>False</td>\n",
       "      <td>False</td>\n",
       "      <td>False</td>\n",
       "      <td>True</td>\n",
       "    </tr>\n",
       "    <tr>\n",
       "      <th>1</th>\n",
       "      <td>67</td>\n",
       "      <td>1</td>\n",
       "      <td>160</td>\n",
       "      <td>286</td>\n",
       "      <td>1</td>\n",
       "      <td>True</td>\n",
       "      <td>False</td>\n",
       "      <td>False</td>\n",
       "      <td>False</td>\n",
       "    </tr>\n",
       "    <tr>\n",
       "      <th>2</th>\n",
       "      <td>67</td>\n",
       "      <td>1</td>\n",
       "      <td>120</td>\n",
       "      <td>229</td>\n",
       "      <td>1</td>\n",
       "      <td>True</td>\n",
       "      <td>False</td>\n",
       "      <td>False</td>\n",
       "      <td>False</td>\n",
       "    </tr>\n",
       "    <tr>\n",
       "      <th>3</th>\n",
       "      <td>37</td>\n",
       "      <td>1</td>\n",
       "      <td>130</td>\n",
       "      <td>250</td>\n",
       "      <td>0</td>\n",
       "      <td>False</td>\n",
       "      <td>True</td>\n",
       "      <td>False</td>\n",
       "      <td>False</td>\n",
       "    </tr>\n",
       "    <tr>\n",
       "      <th>4</th>\n",
       "      <td>41</td>\n",
       "      <td>0</td>\n",
       "      <td>130</td>\n",
       "      <td>204</td>\n",
       "      <td>0</td>\n",
       "      <td>False</td>\n",
       "      <td>False</td>\n",
       "      <td>True</td>\n",
       "      <td>False</td>\n",
       "    </tr>\n",
       "  </tbody>\n",
       "</table>\n",
       "</div>"
      ],
      "text/plain": [
       "   Age  Sex  RestBP  Chol  AHD  ChestPain_asymptomatic  ChestPain_nonanginal  \\\n",
       "0   63    1     145   233    0                   False                 False   \n",
       "1   67    1     160   286    1                    True                 False   \n",
       "2   67    1     120   229    1                    True                 False   \n",
       "3   37    1     130   250    0                   False                  True   \n",
       "4   41    0     130   204    0                   False                 False   \n",
       "\n",
       "   ChestPain_nontypical  ChestPain_typical  \n",
       "0                 False               True  \n",
       "1                 False              False  \n",
       "2                 False              False  \n",
       "3                 False              False  \n",
       "4                  True              False  "
      ]
     },
     "execution_count": 1,
     "metadata": {},
     "output_type": "execute_result"
    }
   ],
   "source": [
    "import pandas as pd\n",
    "\n",
    "\n",
    "predictors = ['Age', 'Sex', 'ChestPain', 'RestBP', 'Chol']\n",
    "target = 'AHD'\n",
    "\n",
    "df = pd.read_csv('https://www.statlearning.com/s/Heart.csv')\n",
    "df = df[predictors + [target]]\n",
    "df = df.dropna()\n",
    "df = pd.get_dummies(df, columns=['ChestPain'])\n",
    "df['AHD'] = df['AHD'].map({'No': 0, 'Yes': 1})\n",
    "df.head()"
   ]
  },
  {
   "cell_type": "markdown",
   "id": "63fb8585-b900-4c09-8298-587c5aadf4d1",
   "metadata": {},
   "source": [
    "### 1. Fit a model using a standard train/validation split through multiple steps.\n",
    "Through the steps you will practice chaining functions, and you will also create the infrastructure necessary for the remaining tasks.\n",
    "\n",
    "1. Write a function \"stratified_split\" that takes three arguments: A dataframe, a number of folds, and a list of variables to stratify by. The function should return a list of dataframes, one for each fold, where the dataframes are stratified by the variables in the list. Test that the function works by splitting the dataset into two folds based on 'AHD', 'Age' and 'RestBP' and print the size of each fold, the counts of 0s and 1s in AHD, and the mean of each of 'Age' and 'RestBP' (all these should be printed individually per fold). Ensure that the function does not modify the original dataframe."
   ]
  },
  {
   "cell_type": "code",
   "execution_count": 6,
   "id": "8d94da0c-16e8-4b87-a725-527ed58e9703",
   "metadata": {},
   "outputs": [
    {
     "name": "stdout",
     "output_type": "stream",
     "text": [
      "152\n",
      "Counter({0: 82, 1: 70})\n",
      "151\n",
      "Counter({0: 82, 1: 69})\n"
     ]
    }
   ],
   "source": [
    "import numpy as np\n",
    "from collections import Counter\n",
    "\n",
    "\n",
    "def stratified_split(dataframe: pd.DataFrame, num_folds: int, variables):\n",
    "    dataframe = dataframe.copy()\n",
    "\n",
    "    dataframe = dataframe.sort_values(variables)\n",
    "    dataframe['fold'] = np.arange(len(dataframe)) % num_folds\n",
    "\n",
    "    return [dataframe[dataframe['fold'] == fold] for fold in range(num_folds)]\n",
    "\n",
    "folds = stratified_split(df, 2, ['AHD', 'Age', 'RestBP'])\n",
    "\n",
    "for fold in folds:\n",
    "    print(len(fold))\n",
    "    print(Counter(fold['AHD']))"
   ]
  },
  {
   "cell_type": "markdown",
   "id": "2cc1aa7f-75d4-44b4-8a6c-cd74a2c1cdf0",
   "metadata": {},
   "source": [
    "2. Write a function 'fit_and_predict' that takes 4 arguments: A training set, a validation set, a list of predictors, and a target variable. The function should fit a logistic regression model to the training set using the predictors and target variable, and return the predictions of the model on the validation set."
   ]
  },
  {
   "cell_type": "code",
   "execution_count": 13,
   "id": "79d6f45e-0509-44f7-9ed5-29e2ddf83aa9",
   "metadata": {},
   "outputs": [],
   "source": [
    "from sklearn.linear_model import LogisticRegression\n",
    "\n",
    "\n",
    "def fit_and_predict(train, validation, predictors, target):\n",
    "    model = LogisticRegression()\n",
    "    model.fit(train[predictors], train[target])\n",
    "\n",
    "    return model.predict_proba(validation[predictors])[:, 1]"
   ]
  },
  {
   "cell_type": "markdown",
   "id": "d1745d6e-68fc-4bf4-a394-52ce67f05c5d",
   "metadata": {},
   "source": [
    "3. Write a function 'fit_and_predict_standardized' that takes 5 arguments: A training set, a validation set, a list of predictors, a target variable, and a list of variables to standardize. Using a loop (or a scaler), the function should z-score standardize the given variables in both the training set and the validation set based on the mean and standard deviation in the training set. Then, the function should call the 'fit_and_predict' function and return its result. Ensure that the function does not modify the original dataframes. Test the function using the train and validation set from above (e.g. the two folds from the split), while standardizing the 'Age', 'RestBP' and 'Chol' variables (as mentioned above, the target should be AHD, and you should also include the remaining predictors: 'Sex' and the ChestPain-variables)"
   ]
  },
  {
   "cell_type": "code",
   "execution_count": 14,
   "id": "5bf02185-b4c3-4aed-9706-6e6cd27fcf5d",
   "metadata": {},
   "outputs": [
    {
     "data": {
      "text/plain": [
       "array([0.25106997, 0.0896915 , 0.04101341, 0.1866407 , 0.05234733,\n",
       "       0.35615682, 0.10848761, 0.04664008, 0.03054168, 0.19979049,\n",
       "       0.26904313, 0.12079627, 0.20996988, 0.39417837, 0.64992003,\n",
       "       0.2130914 , 0.05432808, 0.13362936, 0.2120067 , 0.14496902,\n",
       "       0.65906444, 0.67638455, 0.03950789, 0.12978099, 0.38239122,\n",
       "       0.69722618, 0.26697454, 0.25495893, 0.17270218, 0.40331776,\n",
       "       0.3774143 , 0.04705159, 0.23981485, 0.26755535, 0.46755347,\n",
       "       0.08885281, 0.78025424, 0.46815731, 0.2045457 , 0.09898492,\n",
       "       0.53156096, 0.09738467, 0.45621057, 0.47470795, 0.19090526,\n",
       "       0.08929871, 0.32157531, 0.10550725, 0.37101755, 0.23233461,\n",
       "       0.06807867, 0.52548927, 0.24400157, 0.79497004, 0.50310015,\n",
       "       0.83301662, 0.41597326, 0.33410234, 0.25638556, 0.40350471,\n",
       "       0.8405122 , 0.2918181 , 0.67390036, 0.12925751, 0.46135751,\n",
       "       0.30533789, 0.58834899, 0.1061003 , 0.60913318, 0.59985739,\n",
       "       0.71887418, 0.8669327 , 0.20239776, 0.86937149, 0.35753883,\n",
       "       0.59554103, 0.21567733, 0.18443642, 0.75441332, 0.19423513,\n",
       "       0.17322215, 0.29173331, 0.57105651, 0.61079607, 0.68703261,\n",
       "       0.67626623, 0.32831795, 0.65886135, 0.67889631, 0.72095897,\n",
       "       0.7282475 , 0.22164948, 0.1507278 , 0.7357801 , 0.26219692,\n",
       "       0.77946521, 0.42712089, 0.77860636, 0.77006744, 0.77482032,\n",
       "       0.80052081, 0.76723883, 0.78107332, 0.32337585, 0.80083014,\n",
       "       0.83768523, 0.80437466, 0.80948527, 0.49529689, 0.78925394,\n",
       "       0.36607154, 0.07261534, 0.84139238, 0.29311946, 0.7886925 ,\n",
       "       0.80405255, 0.81876912, 0.82399031, 0.07834353, 0.84862643,\n",
       "       0.81041094, 0.59309642, 0.63998394, 0.87319442, 0.62635483,\n",
       "       0.83566069, 0.84146885, 0.85094879, 0.5910299 , 0.8372418 ,\n",
       "       0.61689446, 0.86032963, 0.86825851, 0.28751186, 0.59059005,\n",
       "       0.61756602, 0.54410791, 0.86176252, 0.87331473, 0.85845808,\n",
       "       0.47480359, 0.85476663, 0.67084298, 0.86437902, 0.71731181,\n",
       "       0.87739761, 0.88112746, 0.90772375, 0.61362951, 0.89918625,\n",
       "       0.59984407])"
      ]
     },
     "execution_count": 14,
     "metadata": {},
     "output_type": "execute_result"
    }
   ],
   "source": [
    "from sklearn.preprocessing import StandardScaler\n",
    "\n",
    "\n",
    "def fit_and_predict_standardized(train, validation, predictors, target, variables):\n",
    "    scaler = StandardScaler()\n",
    "    train[variables] = scaler.fit_transform(train[variables])\n",
    "    validation[variables] = scaler.transform(validation[variables])\n",
    "\n",
    "    return fit_and_predict(train, validation, predictors, target)\n",
    "\n",
    "predictors = [predictor for predictor in predictors if predictor != 'ChestPain']\n",
    "predictors += [col for col in df if col.startswith('ChestPain')]\n",
    "\n",
    "fit_and_predict_standardized(folds[0], folds[1], predictors, target, ['Age', 'RestBP', 'Chol'])"
   ]
  },
  {
   "cell_type": "markdown",
   "id": "1219322b-7341-48ee-9c9c-a42c01a74358",
   "metadata": {},
   "source": [
    "4. Write a function 'fit_and_compute_auc' that takes 5 arguments: A training set, a validation set, a list of predictors, a target variable, and a list of variables to standardize. The function should call the 'fit_and_predict_standardized' function to retrieve out-of-sample predictions for the validation set. Based on these and the ground truth labels in the validation set, it should compute and return the AUC. Test the function using the train and test set from above, while standardizing the 'Age', 'RestBP' and 'Chol' variables (and including the remaining predictors). Print the AUC."
   ]
  },
  {
   "cell_type": "code",
   "execution_count": 16,
   "id": "5fd5e951-e2bc-4c63-98cf-f04f5b030659",
   "metadata": {},
   "outputs": [
    {
     "data": {
      "text/plain": [
       "0.8405797101449276"
      ]
     },
     "execution_count": 16,
     "metadata": {},
     "output_type": "execute_result"
    }
   ],
   "source": [
    "from sklearn.metrics import roc_auc_score\n",
    "\n",
    "def fit_and_compute_auc(train, validation, predictors, target, variables):\n",
    "    predictions = fit_and_predict_standardized(train, validation, predictors, target, variables)\n",
    "\n",
    "    return roc_auc_score(validation[target], predictions)\n",
    "\n",
    "fit_and_compute_auc(folds[0], folds[1], predictors, target, ['Age', 'RestBP', 'Chol'])"
   ]
  },
  {
   "cell_type": "markdown",
   "id": "b30ccc72-bdf0-4805-89d4-ed77cbc8fec2",
   "metadata": {},
   "source": [
    "### 2. Perform a cross-validation.\n",
    "Use the 'stratified_split' function to split the dataset into 10 folds, stratified on variables you find reasonable. For each fold, use the 'fit_and_compute_auc' function to compute the AUC of the model on the held-out validation set. Print the mean and standard deviation of the AUCs across the 10 folds."
   ]
  },
  {
   "cell_type": "code",
   "execution_count": 20,
   "id": "7ee22244-c16d-409b-a952-b5f1d01a9a59",
   "metadata": {},
   "outputs": [
    {
     "name": "stdout",
     "output_type": "stream",
     "text": [
      "[0.8403361344537814, 0.773109243697479, 0.7983193277310925, 0.755656108597285, 0.875, 0.9419642857142857, 0.8616071428571428, 0.7589285714285714, 0.7410714285714286, 0.8348214285714286]\n"
     ]
    },
    {
     "name": "stderr",
     "output_type": "stream",
     "text": [
      "/Users/esten/miniconda3/envs/ml/lib/python3.12/site-packages/sklearn/linear_model/_logistic.py:469: ConvergenceWarning: lbfgs failed to converge (status=1):\n",
      "STOP: TOTAL NO. of ITERATIONS REACHED LIMIT.\n",
      "\n",
      "Increase the number of iterations (max_iter) or scale the data as shown in:\n",
      "    https://scikit-learn.org/stable/modules/preprocessing.html\n",
      "Please also refer to the documentation for alternative solver options:\n",
      "    https://scikit-learn.org/stable/modules/linear_model.html#logistic-regression\n",
      "  n_iter_i = _check_optimize_result(\n",
      "/Users/esten/miniconda3/envs/ml/lib/python3.12/site-packages/sklearn/linear_model/_logistic.py:469: ConvergenceWarning: lbfgs failed to converge (status=1):\n",
      "STOP: TOTAL NO. of ITERATIONS REACHED LIMIT.\n",
      "\n",
      "Increase the number of iterations (max_iter) or scale the data as shown in:\n",
      "    https://scikit-learn.org/stable/modules/preprocessing.html\n",
      "Please also refer to the documentation for alternative solver options:\n",
      "    https://scikit-learn.org/stable/modules/linear_model.html#logistic-regression\n",
      "  n_iter_i = _check_optimize_result(\n",
      "/Users/esten/miniconda3/envs/ml/lib/python3.12/site-packages/sklearn/linear_model/_logistic.py:469: ConvergenceWarning: lbfgs failed to converge (status=1):\n",
      "STOP: TOTAL NO. of ITERATIONS REACHED LIMIT.\n",
      "\n",
      "Increase the number of iterations (max_iter) or scale the data as shown in:\n",
      "    https://scikit-learn.org/stable/modules/preprocessing.html\n",
      "Please also refer to the documentation for alternative solver options:\n",
      "    https://scikit-learn.org/stable/modules/linear_model.html#logistic-regression\n",
      "  n_iter_i = _check_optimize_result(\n",
      "/Users/esten/miniconda3/envs/ml/lib/python3.12/site-packages/sklearn/linear_model/_logistic.py:469: ConvergenceWarning: lbfgs failed to converge (status=1):\n",
      "STOP: TOTAL NO. of ITERATIONS REACHED LIMIT.\n",
      "\n",
      "Increase the number of iterations (max_iter) or scale the data as shown in:\n",
      "    https://scikit-learn.org/stable/modules/preprocessing.html\n",
      "Please also refer to the documentation for alternative solver options:\n",
      "    https://scikit-learn.org/stable/modules/linear_model.html#logistic-regression\n",
      "  n_iter_i = _check_optimize_result(\n",
      "/Users/esten/miniconda3/envs/ml/lib/python3.12/site-packages/sklearn/linear_model/_logistic.py:469: ConvergenceWarning: lbfgs failed to converge (status=1):\n",
      "STOP: TOTAL NO. of ITERATIONS REACHED LIMIT.\n",
      "\n",
      "Increase the number of iterations (max_iter) or scale the data as shown in:\n",
      "    https://scikit-learn.org/stable/modules/preprocessing.html\n",
      "Please also refer to the documentation for alternative solver options:\n",
      "    https://scikit-learn.org/stable/modules/linear_model.html#logistic-regression\n",
      "  n_iter_i = _check_optimize_result(\n",
      "/Users/esten/miniconda3/envs/ml/lib/python3.12/site-packages/sklearn/linear_model/_logistic.py:469: ConvergenceWarning: lbfgs failed to converge (status=1):\n",
      "STOP: TOTAL NO. of ITERATIONS REACHED LIMIT.\n",
      "\n",
      "Increase the number of iterations (max_iter) or scale the data as shown in:\n",
      "    https://scikit-learn.org/stable/modules/preprocessing.html\n",
      "Please also refer to the documentation for alternative solver options:\n",
      "    https://scikit-learn.org/stable/modules/linear_model.html#logistic-regression\n",
      "  n_iter_i = _check_optimize_result(\n",
      "/Users/esten/miniconda3/envs/ml/lib/python3.12/site-packages/sklearn/linear_model/_logistic.py:469: ConvergenceWarning: lbfgs failed to converge (status=1):\n",
      "STOP: TOTAL NO. of ITERATIONS REACHED LIMIT.\n",
      "\n",
      "Increase the number of iterations (max_iter) or scale the data as shown in:\n",
      "    https://scikit-learn.org/stable/modules/preprocessing.html\n",
      "Please also refer to the documentation for alternative solver options:\n",
      "    https://scikit-learn.org/stable/modules/linear_model.html#logistic-regression\n",
      "  n_iter_i = _check_optimize_result(\n",
      "/Users/esten/miniconda3/envs/ml/lib/python3.12/site-packages/sklearn/linear_model/_logistic.py:469: ConvergenceWarning: lbfgs failed to converge (status=1):\n",
      "STOP: TOTAL NO. of ITERATIONS REACHED LIMIT.\n",
      "\n",
      "Increase the number of iterations (max_iter) or scale the data as shown in:\n",
      "    https://scikit-learn.org/stable/modules/preprocessing.html\n",
      "Please also refer to the documentation for alternative solver options:\n",
      "    https://scikit-learn.org/stable/modules/linear_model.html#logistic-regression\n",
      "  n_iter_i = _check_optimize_result(\n",
      "/Users/esten/miniconda3/envs/ml/lib/python3.12/site-packages/sklearn/linear_model/_logistic.py:469: ConvergenceWarning: lbfgs failed to converge (status=1):\n",
      "STOP: TOTAL NO. of ITERATIONS REACHED LIMIT.\n",
      "\n",
      "Increase the number of iterations (max_iter) or scale the data as shown in:\n",
      "    https://scikit-learn.org/stable/modules/preprocessing.html\n",
      "Please also refer to the documentation for alternative solver options:\n",
      "    https://scikit-learn.org/stable/modules/linear_model.html#logistic-regression\n",
      "  n_iter_i = _check_optimize_result(\n",
      "/Users/esten/miniconda3/envs/ml/lib/python3.12/site-packages/sklearn/linear_model/_logistic.py:469: ConvergenceWarning: lbfgs failed to converge (status=1):\n",
      "STOP: TOTAL NO. of ITERATIONS REACHED LIMIT.\n",
      "\n",
      "Increase the number of iterations (max_iter) or scale the data as shown in:\n",
      "    https://scikit-learn.org/stable/modules/preprocessing.html\n",
      "Please also refer to the documentation for alternative solver options:\n",
      "    https://scikit-learn.org/stable/modules/linear_model.html#logistic-regression\n",
      "  n_iter_i = _check_optimize_result(\n"
     ]
    }
   ],
   "source": [
    "folds = stratified_split(df, 10, ['AHD', 'Age', 'RestBP'])\n",
    "\n",
    "aucs = []\n",
    "\n",
    "for i in range(len(folds)):\n",
    "    validation_fold = folds[i]\n",
    "    train_fold = pd.concat([fold for j, fold in enumerate(folds) if i != j])\n",
    "\n",
    "    aucs.append(fit_and_compute_auc(train_fold, validation_fold, predictors, target, ['Age']))\n",
    "\n",
    "print(aucs)"
   ]
  },
  {
   "cell_type": "markdown",
   "id": "91aa1cbe-960a-4695-b0cb-7c0148d28279",
   "metadata": {},
   "source": [
    "### 3. Use the bootstrap to achieve a distribution of out-of-bag AUCs.\n",
    "For 100 iterations, create a bootstrap sample by sampling with replacement from the full dataset until you have a training set equal in size to 80% of the original data. Use the observations not included in the bootstrap sample as the validation set for that iteration.. Fit models and calculate AUCs for each iteration. Print the mean and standard deviation of the AUCs."
   ]
  },
  {
   "cell_type": "code",
   "execution_count": null,
   "id": "27414f5e-6386-4368-952f-e0c9fb6bbb07",
   "metadata": {},
   "outputs": [],
   "source": []
  },
  {
   "cell_type": "markdown",
   "id": "d86b2904-7a0f-4aa7-b946-80021e3743b3",
   "metadata": {},
   "source": [
    "### 4. Theory\n",
    "1. List some benefits of wrapping code in functions rather than copying and pasting it multiple times."
   ]
  },
  {
   "cell_type": "markdown",
   "id": "5b9d0894-9f6a-485d-bc99-5701ece00c44",
   "metadata": {},
   "source": [
    "- _Code can be reused in multiple different scenarios, meaning you have to write less code_\n",
    "- _If you discover a bug in the code, that bug only has to be fixed in one place_\n",
    "- _You hide complex implementation details behind a more abstract interface, making it easier to separate concerns_"
   ]
  },
  {
   "cell_type": "markdown",
   "id": "a8cabf38-45e9-4768-bf22-5445d1df4916",
   "metadata": {},
   "source": [
    "2.  Explain three classification metrics and their benefits and drawbacks."
   ]
  },
  {
   "cell_type": "markdown",
   "id": "0efb8b3b-3808-4295-9fe0-9299b7d51772",
   "metadata": {},
   "source": [
    "- _Logloss: Has nice mathematical properties that allows for using it as a loss function when fitting models. Hard to interpret_\n",
    "- _Accuracy: Very intuitive to understand (the proportion of correct predictions). Does not take into account the cost of different misclassifications, __does not handle imbalanced classes__._\n",
    "- _Area under the receiver operating characteristic curve (AUC/AUROC): Does not rely on setting a classification threshold, handles class imbalance. Hard to interpret literally (e.g. an AUC of 0.95 is generally good, but what does it mean more concretely?), can't be used for optimizing models_"
   ]
  },
  {
   "cell_type": "markdown",
   "id": "6fa30cbf-ade3-409b-b523-d9d53d17be45",
   "metadata": {},
   "source": [
    "3. Write a couple of sentences comparing the three methods (train/validation, cross-validation, bootstrap) above as approaches to quantify model performance. Which one yielded the best results? Which one would you expect to yield the best results? Can you mention some theoretical benefits and drawbacks with each? Even if you didn't do the optional bootstrap exercise you should reflect on this as an approach."
   ]
  },
  {
   "cell_type": "code",
   "execution_count": null,
   "id": "b0690473-bf22-4b95-b5d9-9ff417600a79",
   "metadata": {},
   "outputs": [],
   "source": [
    "print(f'Train/validation-split AUC: {split_auc:.2f}')\n",
    "print(f'Cross-validation AUC: {np.mean(cv_aucs):.2f}+/-{np.std(cv_aucs):.2f}')\n",
    "print(f'Bootstrap AUC: {np.mean(bootstrap_aucs):.2f}+/-{np.std(bootstrap_aucs):.2f}')"
   ]
  },
  {
   "cell_type": "markdown",
   "id": "c1dcbcc7-4bb2-4a3e-9041-2168f5861ad7",
   "metadata": {},
   "source": [
    "_In our case, the three methods yield results that are statistically equivalent. This is what we would expect, but given the fact that the single train/validation-split has a lot of variance depending on the exact split, this doesn't always happen. As such, one of the two latter is preferable_"
   ]
  },
  {
   "cell_type": "markdown",
   "id": "80d9a690-368f-4c5f-879e-f7778c9db7de",
   "metadata": {},
   "source": [
    "4. Why do we stratify the dataset before splitting?"
   ]
  },
  {
   "cell_type": "markdown",
   "id": "9b19b579-54b2-4e74-83c9-c48845e911cd",
   "metadata": {},
   "source": [
    "_To ensure the different folds of the dataset are similar with respect to certain key variables. If we don't do this, we could arrive at models that are very good in whatever portion they are trained on but very poor in everything else, simply due to the training population not being representative for the rest of the data._"
   ]
  },
  {
   "cell_type": "markdown",
   "id": "03862d20-8015-476b-aabc-eb25a36a6ed0",
   "metadata": {},
   "source": [
    "5. What other use cases can you think of for the bootstrap method?"
   ]
  },
  {
   "cell_type": "markdown",
   "id": "080fab35-4001-47c5-8ba3-510a505bf6c2",
   "metadata": {},
   "source": [
    "_In addition to assessing model performance, the bootstrap can also be used to get an idea of the spread of estimated parameter values (e.g. how important a variable is for a prediction)._"
   ]
  },
  {
   "cell_type": "code",
   "execution_count": null,
   "id": "c7a02331-5125-4964-b135-746e9afb148e",
   "metadata": {},
   "outputs": [],
   "source": []
  }
 ],
 "metadata": {
  "kernelspec": {
   "display_name": "Python 3 (ipykernel)",
   "language": "python",
   "name": "python3"
  },
  "language_info": {
   "codemirror_mode": {
    "name": "ipython",
    "version": 3
   },
   "file_extension": ".py",
   "mimetype": "text/x-python",
   "name": "python",
   "nbconvert_exporter": "python",
   "pygments_lexer": "ipython3",
   "version": "3.12.4"
  }
 },
 "nbformat": 4,
 "nbformat_minor": 5
}
