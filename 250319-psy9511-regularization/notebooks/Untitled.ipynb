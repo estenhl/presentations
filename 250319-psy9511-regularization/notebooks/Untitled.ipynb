{
 "cells": [
  {
   "cell_type": "code",
   "execution_count": 1,
   "id": "46f37dbf-6baa-4920-8fc4-5f6a1ad35802",
   "metadata": {},
   "outputs": [],
   "source": [
    "import pandas as pd\n",
    "import numpy as np\n",
    "\n",
    "\n",
    "df = pd.read_csv('~/Downloads/Auto.csv')\n",
    "df = df[df['horsepower'] != '?']\n",
    "df['horsepower'] = df['horsepower'].astype(float)\n",
    "df['muscle'] = df['horsepower'].apply(lambda x: 0 if x < np.mean(df['horsepower']) else 1)\n",
    "\n",
    "train_len = int(len(df) * 0.8)\n",
    "train = df.iloc[:train_len]\n",
    "test = df.iloc[train_len:]"
   ]
  },
  {
   "cell_type": "code",
   "execution_count": 3,
   "id": "f435d684-6e96-4613-be51-f749b3d0fb6f",
   "metadata": {},
   "outputs": [
    {
     "data": {
      "text/plain": [
       "array([-0.02458819, -0.28837181, -0.00511879])"
      ]
     },
     "execution_count": 3,
     "metadata": {},
     "output_type": "execute_result"
    }
   ],
   "source": [
    "from sklearn.linear_model import LinearRegression\n",
    "\n",
    "\n",
    "model = LinearRegression()\n",
    "model.fit(train[['horsepower', 'cylinders', 'weight']], train['mpg'])\n",
    "model.coef_"
   ]
  },
  {
   "cell_type": "code",
   "execution_count": 12,
   "id": "ed814a2c-e5d9-45d7-9f55-baef0719eb76",
   "metadata": {},
   "outputs": [
    {
     "name": "stderr",
     "output_type": "stream",
     "text": [
      "/var/folders/ps/g7dr3f8x0vnbdn4gn57pntfh0000gn/T/ipykernel_69045/1339598524.py:5: SettingWithCopyWarning: \n",
      "A value is trying to be set on a copy of a slice from a DataFrame.\n",
      "Try using .loc[row_indexer,col_indexer] = value instead\n",
      "\n",
      "See the caveats in the documentation: https://pandas.pydata.org/pandas-docs/stable/user_guide/indexing.html#returning-a-view-versus-a-copy\n",
      "  train[['year', 'cylinders', 'weight']] = scaler.fit_transform(train[['year', 'cylinders', 'weight']])\n"
     ]
    },
    {
     "data": {
      "text/plain": [
       "array([ 1.64348105, -0.58670464, -5.00691343])"
      ]
     },
     "execution_count": 12,
     "metadata": {},
     "output_type": "execute_result"
    }
   ],
   "source": [
    "from sklearn.linear_model import Ridge\n",
    "from sklearn.preprocessing import StandardScaler\n",
    "\n",
    "scaler = StandardScaler()\n",
    "train[['year', 'cylinders', 'weight']] = scaler.fit_transform(train[['year', 'cylinders', 'weight']])\n",
    "\n",
    "\n",
    "model = Ridge(1)\n",
    "model.fit(train[['year', 'cylinders', 'weight']], train['mpg'])\n",
    "model.coef_"
   ]
  },
  {
   "cell_type": "code",
   "execution_count": 19,
   "id": "1ad2a61b-de40-422b-a0c9-bb47f6299346",
   "metadata": {},
   "outputs": [
    {
     "name": "stderr",
     "output_type": "stream",
     "text": [
      "/var/folders/ps/g7dr3f8x0vnbdn4gn57pntfh0000gn/T/ipykernel_69045/2417004599.py:5: SettingWithCopyWarning: \n",
      "A value is trying to be set on a copy of a slice from a DataFrame.\n",
      "Try using .loc[row_indexer,col_indexer] = value instead\n",
      "\n",
      "See the caveats in the documentation: https://pandas.pydata.org/pandas-docs/stable/user_guide/indexing.html#returning-a-view-versus-a-copy\n",
      "  train[['year', 'cylinders', 'weight']] = scaler.fit_transform(train[['year', 'cylinders', 'weight']])\n"
     ]
    },
    {
     "data": {
      "text/plain": [
       "array([ 0., -0., -0.])"
      ]
     },
     "execution_count": 19,
     "metadata": {},
     "output_type": "execute_result"
    }
   ],
   "source": [
    "from sklearn.linear_model import Lasso\n",
    "from sklearn.preprocessing import StandardScaler\n",
    "\n",
    "scaler = StandardScaler()\n",
    "train[['year', 'cylinders', 'weight']] = scaler.fit_transform(train[['year', 'cylinders', 'weight']])\n",
    "\n",
    "\n",
    "model = Lasso(alpha=10)\n",
    "model.fit(train[['year', 'cylinders', 'weight']], train['mpg'])\n",
    "model.coef_"
   ]
  },
  {
   "cell_type": "code",
   "execution_count": null,
   "id": "413c4cd2-c5cc-4709-b9aa-4d798960c224",
   "metadata": {},
   "outputs": [],
   "source": []
  }
 ],
 "metadata": {
  "kernelspec": {
   "display_name": "Python 3 (ipykernel)",
   "language": "python",
   "name": "python3"
  },
  "language_info": {
   "codemirror_mode": {
    "name": "ipython",
    "version": 3
   },
   "file_extension": ".py",
   "mimetype": "text/x-python",
   "name": "python",
   "nbconvert_exporter": "python",
   "pygments_lexer": "ipython3",
   "version": "3.12.4"
  }
 },
 "nbformat": 4,
 "nbformat_minor": 5
}
