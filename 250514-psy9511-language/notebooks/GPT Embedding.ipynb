{
 "cells": [
  {
   "cell_type": "code",
   "execution_count": null,
   "id": "3083da5e",
   "metadata": {},
   "outputs": [],
   "source": [
    "import nltk\n",
    "import numpy as np\n",
    "\n",
    "from nltk.corpus import movie_reviews\n",
    "\n",
    "nltk.download('movie_reviews')\n",
    "\n",
    "NUM_SAMPLES = 1000\n",
    "fileids = np.asarray(movie_reviews.fileids())\n",
    "\n",
    "idx = np.concatenate([\n",
    "    np.arange(NUM_SAMPLES // 2), \n",
    "    np.arange(len(fileids) - NUM_SAMPLES // 2, len(fileids))\n",
    "])\n",
    "\n",
    "print(fileids[idx])"
   ]
  },
  {
   "cell_type": "code",
   "execution_count": null,
   "id": "a3b4c702",
   "metadata": {},
   "outputs": [],
   "source": [
    "from collections import Counter\n",
    "from nltk.corpus import movie_reviews\n",
    "\n",
    "reviews = []\n",
    "labels = []\n",
    "\n",
    "for fileid in fileids[idx]:\n",
    "    reviews.append(movie_reviews.raw(fileid))\n",
    "    labels.append(fileid.split('/')[0])\n",
    "    \n",
    "print(reviews[2])\n",
    "print(labels[2])\n",
    "print(Counter(labels))"
   ]
  },
  {
   "cell_type": "code",
   "execution_count": null,
   "id": "fb8024e9",
   "metadata": {},
   "outputs": [],
   "source": [
    "import os\n",
    "\n",
    "from openai import OpenAI\n",
    "\n",
    "key_path = os.path.join(os.path.expanduser('~'), '.keys', 'openai')\n",
    "\n",
    "with open(key_path, 'r') as f:\n",
    "    key = f.read()\n",
    "    \n",
    "client = OpenAI(api_key=key)"
   ]
  },
  {
   "cell_type": "code",
   "execution_count": null,
   "id": "314f4648",
   "metadata": {},
   "outputs": [],
   "source": [
    "from openai import OpenAI\n",
    "from tqdm import tqdm\n",
    "\n",
    "\n",
    "\n",
    "def embed(text, model=\"text-embedding-3-small\"):\n",
    "    text = text.replace(\"\\n\", \" \")\n",
    "    \n",
    "    return client.embeddings.create(input = [text], model=model).data[0].embedding\n",
    "\n",
    "embeddings = [embed(review) for review in tqdm(reviews)]\n"
   ]
  },
  {
   "cell_type": "code",
   "execution_count": null,
   "id": "b5dc00d6",
   "metadata": {},
   "outputs": [],
   "source": [
    "np.random.seed(42)\n",
    "\n",
    "X = np.asarray(embeddings)\n",
    "y = np.asarray(labels)\n",
    "print(X.shape)\n",
    "shuffled_idx = np.random.permutation(np.arange(len(X)))\n",
    "X = X[shuffled_idx]\n",
    "y = y[shuffled_idx]\n",
    "\n",
    "train_idx = int(len(X) * 0.8)\n",
    "\n",
    "train_X = X[:train_idx]\n",
    "train_y = y[:train_idx]\n",
    "test_X = X[train_idx:]\n",
    "test_y = y[train_idx:]"
   ]
  },
  {
   "cell_type": "code",
   "execution_count": null,
   "id": "411c5265",
   "metadata": {},
   "outputs": [],
   "source": [
    "from sklearn.linear_model import LogisticRegression\n",
    "from sklearn.metrics import roc_auc_score\n",
    "\n",
    "\n",
    "model = LogisticRegression(penalty='l1', solver='liblinear')\n",
    "model.fit(train_X, train_y)\n",
    "\n",
    "train_predictions = model.predict_proba(train_X)[:,1]\n",
    "train_auc = roc_auc_score(train_y, train_predictions)\n",
    "print(f'Train AUC: {train_auc:.2f}')\n",
    "\n",
    "test_predictions = model.predict_proba(test_X)[:,1]\n",
    "test_auc = roc_auc_score(test_y, test_predictions)\n",
    "print(f'Test AUC: {test_auc:.2f}')"
   ]
  },
  {
   "cell_type": "code",
   "execution_count": null,
   "id": "8ca27531",
   "metadata": {},
   "outputs": [],
   "source": [
    "import matplotlib.pyplot as plt\n",
    "\n",
    "from sklearn.decomposition import PCA\n",
    "\n",
    "\n",
    "pca = PCA(n_components=2)\n",
    "transformed = pca.fit_transform(X)\n",
    "\n",
    "for label, color in [('neg', 'red'), ('pos', 'blue')]:\n",
    "    idx = np.where(y == label)\n",
    "    plt.scatter(transformed[idx,0], transformed[idx,1], c=color)\n",
    "    \n",
    "plt.show()"
   ]
  },
  {
   "cell_type": "code",
   "execution_count": null,
   "id": "14882a04",
   "metadata": {},
   "outputs": [],
   "source": []
  }
 ],
 "metadata": {
  "kernelspec": {
   "display_name": "Python 3 (ipykernel)",
   "language": "python",
   "name": "python3"
  },
  "language_info": {
   "codemirror_mode": {
    "name": "ipython",
    "version": 3
   },
   "file_extension": ".py",
   "mimetype": "text/x-python",
   "name": "python",
   "nbconvert_exporter": "python",
   "pygments_lexer": "ipython3",
   "version": "3.12.4"
  }
 },
 "nbformat": 4,
 "nbformat_minor": 5
}
