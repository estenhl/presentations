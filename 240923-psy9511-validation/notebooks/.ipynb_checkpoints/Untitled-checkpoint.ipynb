{
 "cells": [
  {
   "cell_type": "code",
   "execution_count": 10,
   "id": "771045a4",
   "metadata": {},
   "outputs": [],
   "source": [
    "import numpy as np\n",
    "import pandas as pd\n",
    "\n",
    "df = pd.read_csv('~/Downloads/Auto.csv')\n",
    "df = df.replace('?', np.nan)\n",
    "train = df.iloc[:200].copy()\n",
    "test = df.iloc[300:].copy()\n",
    "\n",
    "test['cylinders'] = (test['cylinders'] - train['cylinders'].mean()) \\\n",
    "                     - train['cylinders'].std()\n",
    "train['cylinders'] = (train['cylinders'] - train['cylinders'].mean()) \\\n",
    "                      - train['cylinders'].std()\n",
    "test['displacement'] = (test['displacement'] - train['displacement'].mean()) \\\n",
    "                       - train['displacement'].std()\n",
    "train['displacement'] = (train['displacement'] - train['displacement'].mean()) \\\n",
    "                        - train['displacement'].std()\n",
    "test['weight'] = (test['weight'] - test['weight'].mean()) \\\n",
    "                       - test['weight'].std()\n",
    "train['weight'] = (train['weight'] - train['weight'].mean()) \\\n",
    "                       - train['weight'].std()"
   ]
  },
  {
   "cell_type": "code",
   "execution_count": 7,
   "id": "006b60c4",
   "metadata": {},
   "outputs": [
    {
     "data": {
      "text/plain": [
       "Index(['mpg', 'cylinders', 'displacement', 'horsepower', 'weight',\n",
       "       'acceleration', 'year', 'origin', 'name'],\n",
       "      dtype='object')"
      ]
     },
     "execution_count": 7,
     "metadata": {},
     "output_type": "execute_result"
    }
   ],
   "source": [
    "import numpy as np\n",
    "import pandas as pd\n",
    "\n",
    "df = pd.read_csv('~/Downloads/Auto.csv')\n",
    "df = df.replace('?', np.nan)\n",
    "train = df.iloc[:200].copy()\n",
    "test = df.iloc[300:].copy()\n",
    "\n",
    "def standardize(train: pd.DataFrame, test: pd.DataFrame,\n",
    "                column: str):\n",
    "    train = train.copy()\n",
    "    test = test.copy()\n",
    "    \n",
    "    test[column] = (test[column] - train[column].mean()) \\\n",
    "                       - train[column].std()\n",
    "    \n",
    "    return train, test\n",
    "    \n",
    "train, test = standardize(train, test, column='cylinders')\n",
    "train, test = standardize(train, test, column='displacement')\n",
    "train, test = standardize(train, test, column='weight')"
   ]
  },
  {
   "cell_type": "code",
   "execution_count": null,
   "id": "9b665824",
   "metadata": {},
   "outputs": [],
   "source": []
  }
 ],
 "metadata": {
  "kernelspec": {
   "display_name": "Python 3 (ipykernel)",
   "language": "python",
   "name": "python3"
  },
  "language_info": {
   "codemirror_mode": {
    "name": "ipython",
    "version": 3
   },
   "file_extension": ".py",
   "mimetype": "text/x-python",
   "name": "python",
   "nbconvert_exporter": "python",
   "pygments_lexer": "ipython3",
   "version": "3.10.9"
  }
 },
 "nbformat": 4,
 "nbformat_minor": 5
}
