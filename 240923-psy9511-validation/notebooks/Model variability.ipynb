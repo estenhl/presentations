{
 "cells": [
  {
   "cell_type": "code",
   "execution_count": null,
   "id": "d5f2527d-f414-4806-84c1-fa8ec15cb051",
   "metadata": {},
   "outputs": [],
   "source": [
    "import pandas as pd\n",
    "\n",
    "\n",
    "df = pd.read_csv('~/Downloads/Auto.csv')\n",
    "df = df[df['horsepower'] != '?']\n",
    "df['horsepower'] = df['horsepower'].astype(float)"
   ]
  },
  {
   "cell_type": "code",
   "execution_count": null,
   "id": "ac9c3b45-5889-41fd-a277-d1bf5c6bdba0",
   "metadata": {},
   "outputs": [],
   "source": [
    "import numpy as np\n",
    "\n",
    "from sklearn.linear_model import LinearRegression\n",
    "from sklearn.metrics import mean_squared_error\n",
    "\n",
    "\n",
    "NUM_FOLDS = 5\n",
    "\n",
    "seeds = np.arange(42, 142)\n",
    "mean_mses = []\n",
    "\n",
    "for seed in seeds:\n",
    "    np.random.seed(seed)\n",
    "    df = df.iloc[np.random.permutation(len(df))]\n",
    "    df['fold'] = np.arange(len(df)) % NUM_FOLDS\n",
    "    mses = []\n",
    "\n",
    "    for fold in np.arange(NUM_FOLDS):\n",
    "        train = df[df['fold'] != fold]\n",
    "        validation = df[df['fold'] == fold]\n",
    "\n",
    "        model = LinearRegression()\n",
    "        model.fit(train[['horsepower', 'year']], train['mpg'])\n",
    "        predictions = model.predict(validation[['horsepower', 'year']])\n",
    "        mse = mean_squared_error(validation['mpg'], predictions)\n",
    "        mses.append(mse)\n",
    "\n",
    "    mean_mses.append(np.mean(mse))\n",
    "\n",
    "print(f'MSE range: {np.amin(mean_mses):.2f}-{np.amax(mean_mses):.2f}')"
   ]
  },
  {
   "cell_type": "code",
   "execution_count": null,
   "id": "76753c4a-2519-481a-a661-e2b33c12c9c9",
   "metadata": {},
   "outputs": [],
   "source": [
    "from plotly.figure_factory import create_distplot\n",
    "\n",
    "\n",
    "fig = create_distplot([mean_mses], ['Mean MSE'])\n",
    "fig.show()"
   ]
  },
  {
   "cell_type": "code",
   "execution_count": null,
   "id": "e2b8b46e-852c-42d0-8c7b-14e42a01e464",
   "metadata": {},
   "outputs": [],
   "source": [
    "from sklearn.dummy import DummyRegressor\n",
    "\n",
    "\n",
    "baseline = DummyRegressor()\n",
    "baseline.fit(train[['horsepower', 'year']], train['mpg'])\n",
    "baseline_predictions = baseline.predict(validation[['horsepower', 'year']])\n",
    "baseline_mse = mean_squared_error(validation['mpg'], baseline_predictions)\n",
    "\n",
    "print(f'Baseline MSE: {baseline_mse:.2f}')"
   ]
  },
  {
   "cell_type": "code",
   "execution_count": null,
   "id": "6635c43d-a8cb-41ab-9309-e5b416c9c2c7",
   "metadata": {},
   "outputs": [],
   "source": []
  }
 ],
 "metadata": {
  "kernelspec": {
   "display_name": "Python 3 (ipykernel)",
   "language": "python",
   "name": "python3"
  },
  "language_info": {
   "codemirror_mode": {
    "name": "ipython",
    "version": 3
   },
   "file_extension": ".py",
   "mimetype": "text/x-python",
   "name": "python",
   "nbconvert_exporter": "python",
   "pygments_lexer": "ipython3",
   "version": "3.12.4"
  }
 },
 "nbformat": 4,
 "nbformat_minor": 5
}
