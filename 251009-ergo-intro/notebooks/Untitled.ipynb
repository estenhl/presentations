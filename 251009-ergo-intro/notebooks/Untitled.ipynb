{
 "cells": [
  {
   "cell_type": "code",
   "execution_count": 1,
   "id": "fcf776d0-2543-4913-a877-0a2a1bdd52b2",
   "metadata": {},
   "outputs": [
    {
     "name": "stdout",
     "output_type": "stream",
     "text": [
      "1081.7549413426414\n",
      "[34.61466554]\n",
      "935.2411690641488\n",
      "1485.5638983893648\n"
     ]
    },
    {
     "ename": "NameError",
     "evalue": "name 'noisy_t' is not defined",
     "output_type": "error",
     "traceback": [
      "\u001b[31m---------------------------------------------------------------------------\u001b[39m",
      "\u001b[31mNameError\u001b[39m                                 Traceback (most recent call last)",
      "\u001b[36mCell\u001b[39m\u001b[36m \u001b[39m\u001b[32mIn[1]\u001b[39m\u001b[32m, line 20\u001b[39m\n\u001b[32m     17\u001b[39m \u001b[38;5;28mprint\u001b[39m(np.amin(y))\n\u001b[32m     18\u001b[39m \u001b[38;5;28mprint\u001b[39m(np.amax(y))\n\u001b[32m---> \u001b[39m\u001b[32m20\u001b[39m pd.DataFrame(x=noisy_x, y=\u001b[43mnoisy_t\u001b[49m).to_csv(\u001b[33m'\u001b[39m\u001b[33mdata/brainsize.csv\u001b[39m\u001b[33m'\u001b[39m, index=\u001b[38;5;28;01mFalse\u001b[39;00m)\n\u001b[32m     22\u001b[39m plt.plot(x, y)\n\u001b[32m     23\u001b[39m plt.scatter(noisy_x, noisy_y)\n",
      "\u001b[31mNameError\u001b[39m: name 'noisy_t' is not defined"
     ]
    }
   ],
   "source": [
    "import matplotlib.pyplot as plt\n",
    "import numpy as np\n",
    "import pandas as pd\n",
    "from sklearn.linear_model import LinearRegression\n",
    "\n",
    "\n",
    "x = np.linspace(2, 13, 100)\n",
    "y = 400 + 1100 * (1 - np.exp(-x/3))\n",
    "noisy_x = np.minimum(13, np.maximum(1, x + np.random.randn(len(x))))\n",
    "noisy_y = y + np.random.randn(len(y)) * 50\n",
    "model = LinearRegression()\n",
    "model.fit(np.reshape(noisy_x, (-1, 1)), noisy_y)\n",
    "\n",
    "print(model.intercept_)\n",
    "print(model.coef_)\n",
    "\n",
    "print(np.amin(y))\n",
    "print(np.amax(y))\n",
    "\n",
    "pd.DataFrame(x=noisy_x, y=noisy_t).to_csv('data/brainsize.csv', index=False)\n",
    "\n",
    "plt.plot(x, y)\n",
    "plt.scatter(noisy_x, noisy_y)\n",
    "plt.show()"
   ]
  },
  {
   "cell_type": "code",
   "execution_count": null,
   "id": "a6417ef1-7da6-4305-8f13-9c1d5d250f60",
   "metadata": {},
   "outputs": [],
   "source": []
  }
 ],
 "metadata": {
  "kernelspec": {
   "display_name": "Python 3 (ipykernel)",
   "language": "python",
   "name": "python3"
  },
  "language_info": {
   "codemirror_mode": {
    "name": "ipython",
    "version": 3
   },
   "file_extension": ".py",
   "mimetype": "text/x-python",
   "name": "python",
   "nbconvert_exporter": "python",
   "pygments_lexer": "ipython3",
   "version": "3.13.5"
  }
 },
 "nbformat": 4,
 "nbformat_minor": 5
}
