{
 "cells": [
  {
   "cell_type": "markdown",
   "id": "bb012c02-81a2-4eee-943f-ecc62b3de488",
   "metadata": {},
   "source": [
    "### Load the Auto dataset and create a binary outcome variable"
   ]
  },
  {
   "cell_type": "code",
   "execution_count": 1,
   "id": "4702cb74-fd7d-4664-afba-89d9830e669f",
   "metadata": {},
   "outputs": [],
   "source": [
    "import pandas as pd\n",
    "import numpy as np\n",
    "\n",
    "\n",
    "df = pd.read_csv('~/Downloads/Auto.csv')\n",
    "df = df[df['horsepower'] != '?']\n",
    "df['horsepower'] = df['horsepower'].astype(float)\n",
    "df['muscle'] = df['horsepower'].apply(lambda x: 0 if x < np.mean(df['horsepower']) else 1)\n",
    "\n",
    "# Stratification\n",
    "df = df.sort_values('muscle')\n",
    "df['fold'] = np.arange(len(df)) % 5\n",
    "\n",
    "train = df[df['fold'] != 2]\n",
    "test = df[df['fold'] == 2]"
   ]
  },
  {
   "cell_type": "markdown",
   "id": "705483c1-f5d9-49f2-bc64-938af3797a77",
   "metadata": {},
   "source": [
    "### Fit a Logistic Regression model"
   ]
  },
  {
   "cell_type": "code",
   "execution_count": 2,
   "id": "e8398541-8ae7-4613-939c-78fa3333fb88",
   "metadata": {},
   "outputs": [],
   "source": [
    "from sklearn.linear_model import LogisticRegression\n",
    "\n",
    "model = LogisticRegression()\n",
    "model.fit(train[['weight', 'year', 'displacement', 'cylinders']], train['muscle'])\n",
    "test_predictions = model.predict_proba(test[['weight', 'year', 'displacement', 'cylinders']])"
   ]
  },
  {
   "cell_type": "markdown",
   "id": "a1ef0766-a0e3-45ce-b6bc-3fafd00b6f91",
   "metadata": {},
   "source": [
    "### Calculate some performance metrics"
   ]
  },
  {
   "cell_type": "code",
   "execution_count": 15,
   "id": "3bd5df57-c7e0-4e6e-a14f-6f20e886a65b",
   "metadata": {},
   "outputs": [
    {
     "data": {
      "text/plain": [
       "array([[0.6025641 , 0.02564103],\n",
       "       [0.08974359, 0.28205128]])"
      ]
     },
     "execution_count": 15,
     "metadata": {},
     "output_type": "execute_result"
    }
   ],
   "source": [
    "from sklearn.metrics import accuracy_score, precision_score, confusion_matrix, roc_auc_score\n",
    "\n",
    "accuracy_score(test['muscle'], np.round(test_predictions[:,1]).astype(int))\n",
    "precision_score(test['muscle'], np.round(test_predictions[:,1]).astype(int))\n",
    "confusion_matrix(test['muscle'], np.round(test_predictions[:,1]).astype(int)) / len(test['muscle'])"
   ]
  },
  {
   "cell_type": "code",
   "execution_count": 8,
   "id": "e36f84a9-8e48-4257-8c37-1a10d535778e",
   "metadata": {},
   "outputs": [
    {
     "data": {
      "text/plain": [
       "array([0])"
      ]
     },
     "execution_count": 8,
     "metadata": {},
     "output_type": "execute_result"
    }
   ],
   "source": [
    "np.asarray([0.99]).astype(int)"
   ]
  },
  {
   "cell_type": "code",
   "execution_count": 17,
   "id": "517098ab-c434-4208-8a0c-f21f3b6b4e65",
   "metadata": {},
   "outputs": [],
   "source": [
    "from sklearn.metrics import roc_curve\n",
    "\n",
    "fpr, tpr, thresholds = roc_curve(test['muscle'], test_predictions[:,1])"
   ]
  },
  {
   "cell_type": "code",
   "execution_count": 19,
   "id": "46d4ffd1-2ed5-4093-b088-b37b6c8125a2",
   "metadata": {},
   "outputs": [
    {
     "data": {
      "text/plain": [
       "[<matplotlib.lines.Line2D at 0x11e109810>]"
      ]
     },
     "execution_count": 19,
     "metadata": {},
     "output_type": "execute_result"
    },
    {
     "data": {
      "image/png": "[encoded data removed]",
      "text/plain": [
       "<Figure size 640x480 with 1 Axes>"
      ]
     },
     "metadata": {},
     "output_type": "display_data"
    }
   ],
   "source": [
    "import matplotlib.pyplot as plt\n",
    "\n",
    "plt.plot(fpr, tpr)"
   ]
  },
  {
   "cell_type": "code",
   "execution_count": null,
   "id": "e2dc0edd-d316-432f-827d-52f39c71324c",
   "metadata": {},
   "outputs": [],
   "source": []
  }
 ],
 "metadata": {
  "kernelspec": {
   "display_name": "Python 3 (ipykernel)",
   "language": "python",
   "name": "python3"
  },
  "language_info": {
   "codemirror_mode": {
    "name": "ipython",
    "version": 3
   },
   "file_extension": ".py",
   "mimetype": "text/x-python",
   "name": "python",
   "nbconvert_exporter": "python",
   "pygments_lexer": "ipython3",
   "version": "3.13.5"
  }
 },
 "nbformat": 4,
 "nbformat_minor": 5
}
