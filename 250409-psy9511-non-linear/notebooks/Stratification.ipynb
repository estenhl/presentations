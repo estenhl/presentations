{
 "cells": [
  {
   "cell_type": "code",
   "execution_count": 15,
   "id": "ee0e6e32-6dd9-4f35-acfe-3c9ee8910274",
   "metadata": {},
   "outputs": [
    {
     "name": "stdout",
     "output_type": "stream",
     "text": [
      "   x1  x2\n",
      "1   2   1\n",
      "2   1   1\n",
      "3   2   2\n",
      "   x1  x2\n",
      "0   1   1\n",
      "4   1   2\n",
      "5   2   2\n"
     ]
    },
    {
     "name": "stderr",
     "output_type": "stream",
     "text": [
      "/Users/esten/miniconda3/envs/ml/lib/python3.12/site-packages/sklearn/model_selection/_split.py:737: UserWarning: The least populated class in y has only 1 members, which is less than n_splits=2.\n",
      "  warnings.warn(\n"
     ]
    }
   ],
   "source": [
    "import pandas as pd\n",
    "\n",
    "from sklearn.model_selection import StratifiedKFold\n",
    "\n",
    "\n",
    "def stratified_split(df, k, stratify_cols):\n",
    "    stratification_column = df[stratify_cols].astype(str).agg('-'.join, axis=1)\n",
    "    skf = StratifiedKFold(n_splits=k, shuffle=True, random_state=42)\n",
    "    \n",
    "    return [df.iloc[val_idx] for _, val_idx in skf.split(df, stratification_column)]\n",
    "\n",
    "df = pd.DataFrame({'x1': [1, 2, 1, 2, 1, 2], 'x2': [1, 1, 1, 2, 2, 2]})\n",
    "\n",
    "for fold in stratified_split(df, 2, ['x1', 'x2']):\n",
    "    print(fold)"
   ]
  },
  {
   "cell_type": "code",
   "execution_count": null,
   "id": "5fb099d4-33c5-4308-ad18-4b9012e4f229",
   "metadata": {},
   "outputs": [],
   "source": []
  }
 ],
 "metadata": {
  "kernelspec": {
   "display_name": "Python 3 (ipykernel)",
   "language": "python",
   "name": "python3"
  },
  "language_info": {
   "codemirror_mode": {
    "name": "ipython",
    "version": 3
   },
   "file_extension": ".py",
   "mimetype": "text/x-python",
   "name": "python",
   "nbconvert_exporter": "python",
   "pygments_lexer": "ipython3",
   "version": "3.12.4"
  }
 },
 "nbformat": 4,
 "nbformat_minor": 5
}
