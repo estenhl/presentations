{
 "cells": [
  {
   "cell_type": "markdown",
   "id": "e80a3626-9d5a-49de-86c3-235082aeae75",
   "metadata": {},
   "source": [
    "#### Assignment 0.1: Download the heart disease dataset from https://www.statlearning.com/s/Heart.csv"
   ]
  },
  {
   "cell_type": "markdown",
   "id": "bd2dc70d-761c-4bd9-97a2-a187a3ba05a3",
   "metadata": {},
   "source": [
    "#### Assignment 0.2: Load the dataset and drop all variables except the predictors Age, Sex, ChestPain, RestBP, Chol, and the target variable AHD. Drop all rows containing a NaN value."
   ]
  },
  {
   "cell_type": "code",
   "execution_count": null,
   "id": "05205f17-80ea-4933-a0f9-6b1c22ba7b49",
   "metadata": {},
   "outputs": [],
   "source": [
    "import pandas as pd\n",
    "\n",
    "df = pd.read_csv('https://www.statlearning.com/s/Heart.csv')\n",
    "predictors = ['Age', 'Sex', 'ChestPain', 'RestBP', 'Chol']\n",
    "target = 'AHD'\n",
    "\n",
    "df = df[predictors + [target]]\n",
    "df = df.dropna()"
   ]
  },
  {
   "cell_type": "markdown",
   "id": "00fcbdb0-1b50-444d-9588-28b97b5ffa34",
   "metadata": {},
   "source": [
    "#### Assignment 0.3: Onehot encode the variable ChestPain. This means that where you before had a single column with one of four values ['typical', 'asymptomatic', 'nonanginal', 'nontypical'], you will now have four binary columns (their names don't matter), akin to 'ChestPain_typical' 'ChestPain_asymptomatic', 'ChestPain_nonanginal', 'ChestPain_nontypical'. A row that before had ChestPain='typical' will now have ChestPain_typical=1 and the other three columns set to 0, ChestPain='asymptomatic' will have ChestPain_asymptomatic=1 and the other three set to 0, etc."
   ]
  },
  {
   "cell_type": "code",
   "execution_count": null,
   "id": "5f806297-f548-468b-a87f-d150f06ad72a",
   "metadata": {},
   "outputs": [],
   "source": [
    "df = pd.get_dummies(df, columns=['ChestPain'])\n",
    "\n",
    "predictors.remove('ChestPain')\n",
    "predictors.extend([col for col in df.columns if col.startswith('ChestPain')])"
   ]
  },
  {
   "cell_type": "markdown",
   "id": "0c00618e-4444-457f-ae66-95cb618cc33a",
   "metadata": {},
   "source": [
    "#### Assignment 0.4: Binary encode the target variable AHD such that 'No'=0 and 'Yes'=1."
   ]
  },
  {
   "cell_type": "code",
   "execution_count": null,
   "id": "757f6684-42d8-4494-8b55-ccc7e8370255",
   "metadata": {},
   "outputs": [],
   "source": [
    "df['AHD'] = df['AHD'].map({'No': 0, 'Yes': 1})"
   ]
  },
  {
   "cell_type": "markdown",
   "id": "a8ae9cb1-8a51-4c60-a811-c7b45d90707f",
   "metadata": {},
   "source": [
    "#### Assignment 1.1: Write a function \"stratified_split\" that takes three arguments: A dataframe, a number of folds, and a list of variables to stratify by. The function should return a list of dataframes, one for each fold, where the dataframes are stratified by the variables in the list. Test that the function works by splitting the dataset into two folds based on 'AHD', 'Age' and 'RestBP' and print the size of each fold, the counts of 0s and 1s in AHD, and the mean of each of 'Age' and 'RestBP' (all these should be printed individually per fold). Ensure that the function does not modify the original dataframe."
   ]
  },
  {
   "cell_type": "code",
   "execution_count": null,
   "id": "be1aabfd-e972-4271-a301-d838f83a2db3",
   "metadata": {},
   "outputs": [],
   "source": []
  },
  {
   "cell_type": "markdown",
   "id": "1372db2e-c67b-4127-b530-89e475f16e58",
   "metadata": {},
   "source": [
    "#### Assignment 1.2: Write a function 'fit_and_predict' that takes 4 arguments: A training set, a validation set, a list of predictors, and a target variable. The function should fit a logistic regression model to the training set using the predictors and target variable, and return the predictions of the model on the validation set."
   ]
  },
  {
   "cell_type": "code",
   "execution_count": null,
   "id": "59dd23ae-f716-466c-aadb-1a1841b07776",
   "metadata": {},
   "outputs": [],
   "source": []
  },
  {
   "cell_type": "markdown",
   "id": "a84777be-0060-4f05-b17a-882d40f7ef8b",
   "metadata": {},
   "source": [
    "#### Assignment 1.3: Write a function 'fit_and_predict_standardized' that takes 5 arguments: A training set, a validation set, a list of predictors, a target variable, and a list of variables to standardize. Using a loop (or a scaler), the function should z-score standardize the given variables in both the training set and the validation set based on the mean and standard deviation in the training set. Then, the function should call the 'fit_and_predict' function and return its result. Ensure that the function does not modify the original dataframes. Test the function using the train and validation set from above (e.g. the two folds from the split), while standardizing the 'Age', 'RestBP' and 'Chol' variables (as mentioned above, the target should be AHD, and you should also include the remaining predictors: 'Sex' and the ChestPain-variables)"
   ]
  },
  {
   "cell_type": "code",
   "execution_count": null,
   "id": "1329de50-11a2-4b3b-9c8b-d19d89dc749c",
   "metadata": {},
   "outputs": [],
   "source": []
  },
  {
   "cell_type": "markdown",
   "id": "79193275-cf1f-4184-b11d-b3ec3fdddbcf",
   "metadata": {},
   "source": [
    "#### Assignment 1.4: Write a function 'fit_and_compute_auc' that takes 5 arguments: A training set, a validation set, a list of predictors, a target variable, and a list of variables to standardize. The function should call the 'fit_and_predict_standardized' function to retrieve out-of-sample predictions for the validation set. Based on these and the ground truth labels in the validation set, it should compute and return the AUC. Test the function using the train and test set from above, while standardizing the 'Age', 'RestBP' and 'Chol' variables (and including the remaining predictors). Print the AUC."
   ]
  },
  {
   "cell_type": "code",
   "execution_count": null,
   "id": "f498e1a8-0864-4e25-aeae-f5f887068d2a",
   "metadata": {},
   "outputs": [],
   "source": []
  },
  {
   "cell_type": "markdown",
   "id": "950790f3-5b65-4a49-a71c-c37a5b85a1ec",
   "metadata": {},
   "source": [
    "#### Assignment 2: Use the 'stratified_split' function to split the dataset into 10 folds, stratified on variables you find reasonable. For each fold, use the 'fit_and_compute_auc' function to compute the AUC of the model on the held-out validation set. Print the mean and standard deviation of the AUCs across the 10 folds."
   ]
  },
  {
   "cell_type": "code",
   "execution_count": null,
   "id": "a6e367f2-6918-4d6b-86de-fbc60fe31fb8",
   "metadata": {},
   "outputs": [],
   "source": []
  },
  {
   "cell_type": "markdown",
   "id": "3c6f616b-b410-4979-a380-037cda7ef3d0",
   "metadata": {},
   "source": [
    "#### Assignment 3: For 100 iterations, create a bootstrap sample by sampling with replacement from the full dataset until you have a training set equal in size to 80% of the original data. Use the observations not included in the bootstrap sample as the validation set for that iteration.. Fit models and calculate AUCs for each iteration. Print the mean and standard deviation of the AUCs."
   ]
  },
  {
   "cell_type": "code",
   "execution_count": null,
   "id": "e8e3da14-a44c-40b1-941f-af0d1d9c3b20",
   "metadata": {},
   "outputs": [],
   "source": []
  },
  {
   "cell_type": "markdown",
   "id": "151e6182-6a4f-44b9-8bb7-6b5521337851",
   "metadata": {},
   "source": [
    "#### Assignment 4.1:  List some benefits of wrapping code in functions rather than copying and pasting it multiple times."
   ]
  },
  {
   "cell_type": "code",
   "execution_count": null,
   "id": "3cecadef-6a3c-47b4-b4f5-ad6b7a26c8bc",
   "metadata": {},
   "outputs": [],
   "source": []
  },
  {
   "cell_type": "markdown",
   "id": "17e3b518-6804-4f1d-adda-7f493cd0aec0",
   "metadata": {},
   "source": [
    "#### Assignment 4.2:  Explain three classification metrics and their benefits and drawbacks."
   ]
  },
  {
   "cell_type": "code",
   "execution_count": null,
   "id": "97d5ad03-7003-4487-a539-7ec82ab4a416",
   "metadata": {},
   "outputs": [],
   "source": []
  },
  {
   "cell_type": "markdown",
   "id": "a24279aa-605d-47c7-8471-b872c78ff975",
   "metadata": {},
   "source": [
    "#### Assignment 4.3:  Write a couple of sentences comparing the three methods (train/validation, cross-validation, bootstrap) above as approaches to quantify model performance. Which one yielded the best results? Which one would you expect to yield the best results? Can you mention some theoretical benefits and drawbacks with each? Even if you didn't do the optional bootstrap exercise you should reflect on this as an approach."
   ]
  },
  {
   "cell_type": "code",
   "execution_count": null,
   "id": "6bc522c2-63a1-4509-968f-4734e3ab1957",
   "metadata": {},
   "outputs": [],
   "source": []
  },
  {
   "cell_type": "markdown",
   "id": "1b5607b1-08ba-487c-9c26-1278af1758a1",
   "metadata": {},
   "source": [
    "#### Assignment 4.4: Why do we stratify the dataset before splitting?"
   ]
  },
  {
   "cell_type": "code",
   "execution_count": null,
   "id": "81aabd8b-5b70-4d2d-a5d9-9aed3aaf67e6",
   "metadata": {},
   "outputs": [],
   "source": []
  },
  {
   "cell_type": "markdown",
   "id": "e254fbbc-1f28-423d-8926-2fb569d617d1",
   "metadata": {},
   "source": [
    "#### Assignment 4.5: What other use cases can you think of for the bootstrap method?"
   ]
  },
  {
   "cell_type": "code",
   "execution_count": null,
   "id": "54e5dd92-e453-418d-b198-d688e846dceb",
   "metadata": {},
   "outputs": [],
   "source": []
  }
 ],
 "metadata": {
  "kernelspec": {
   "display_name": "Python 3 (ipykernel)",
   "language": "python",
   "name": "python3"
  },
  "language_info": {
   "codemirror_mode": {
    "name": "ipython",
    "version": 3
   },
   "file_extension": ".py",
   "mimetype": "text/x-python",
   "name": "python",
   "nbconvert_exporter": "python",
   "pygments_lexer": "ipython3",
   "version": "3.12.0"
  }
 },
 "nbformat": 4,
 "nbformat_minor": 5
}
