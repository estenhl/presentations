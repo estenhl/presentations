{
 "cells": [
  {
   "cell_type": "code",
   "execution_count": 2,
   "id": "0a80cb05-8a4b-4f1f-ba9b-418a66a025b7",
   "metadata": {},
   "outputs": [
    {
     "name": "stdout",
     "output_type": "stream",
     "text": [
      "   sex  diagnosis\n",
      "0    0          0\n",
      "1    0          1\n",
      "4    1          0\n",
      "5    1          1\n",
      "   sex  diagnosis\n",
      "2    0          0\n",
      "3    0          1\n",
      "6    1          0\n",
      "7    1          1\n",
      "Empty DataFrame\n",
      "Columns: [sex, diagnosis]\n",
      "Index: []\n",
      "Empty DataFrame\n",
      "Columns: [sex, diagnosis]\n",
      "Index: []\n",
      "Empty DataFrame\n",
      "Columns: [sex, diagnosis]\n",
      "Index: []\n"
     ]
    }
   ],
   "source": [
    "import numpy as np\n",
    "import pandas as pd\n",
    "\n",
    "def stratify(df, variables, num_folds=2):\n",
    "    df = df.copy()\n",
    "    \n",
    "    df['fold'] = -1\n",
    "    strata = df.groupby(['sex', 'diagnosis'])\n",
    "    \n",
    "    for idx in strata.indices.values():\n",
    "        df.loc[idx, 'fold'] = np.arange(len(idx)) % num_folds\n",
    "\n",
    "    return [\n",
    "        df[df['fold'] == fold].drop(columns='fold') \n",
    "        for fold in range(num_folds)\n",
    "    ]\n",
    "\n",
    "df = pd.DataFrame({\n",
    "    'sex': [0, 0, 0, 0, 1, 1, 1, 1], \n",
    "    'diagnosis': [0, 1, 0, 1, 0, 1, 0, 1]\n",
    "})\n",
    "\n",
    "folds = stratify(df, ['sex', 'diagnosis'], 5)\n",
    "\n",
    "for fold in folds:\n",
    "    print(fold)"
   ]
  },
  {
   "cell_type": "code",
   "execution_count": 3,
   "id": "913b9061-f04e-4ec8-a652-6d21873adf38",
   "metadata": {},
   "outputs": [
    {
     "data": {
      "text/html": [
       "<div>\n",
       "<style scoped>\n",
       "    .dataframe tbody tr th:only-of-type {\n",
       "        vertical-align: middle;\n",
       "    }\n",
       "\n",
       "    .dataframe tbody tr th {\n",
       "        vertical-align: top;\n",
       "    }\n",
       "\n",
       "    .dataframe thead th {\n",
       "        text-align: right;\n",
       "    }\n",
       "</style>\n",
       "<table border=\"1\" class=\"dataframe\">\n",
       "  <thead>\n",
       "    <tr style=\"text-align: right;\">\n",
       "      <th></th>\n",
       "      <th>sex</th>\n",
       "      <th>value</th>\n",
       "      <th>strata</th>\n",
       "    </tr>\n",
       "  </thead>\n",
       "  <tbody>\n",
       "    <tr>\n",
       "      <th>4</th>\n",
       "      <td>0</td>\n",
       "      <td>1025</td>\n",
       "      <td>0-1025</td>\n",
       "    </tr>\n",
       "    <tr>\n",
       "      <th>2</th>\n",
       "      <td>0</td>\n",
       "      <td>142</td>\n",
       "      <td>0-142</td>\n",
       "    </tr>\n",
       "    <tr>\n",
       "      <th>0</th>\n",
       "      <td>0</td>\n",
       "      <td>27</td>\n",
       "      <td>0-27</td>\n",
       "    </tr>\n",
       "    <tr>\n",
       "      <th>3</th>\n",
       "      <td>1</td>\n",
       "      <td>295</td>\n",
       "      <td>1-295</td>\n",
       "    </tr>\n",
       "    <tr>\n",
       "      <th>5</th>\n",
       "      <td>1</td>\n",
       "      <td>413</td>\n",
       "      <td>1-413</td>\n",
       "    </tr>\n",
       "    <tr>\n",
       "      <th>1</th>\n",
       "      <td>1</td>\n",
       "      <td>55</td>\n",
       "      <td>1-55</td>\n",
       "    </tr>\n",
       "  </tbody>\n",
       "</table>\n",
       "</div>"
      ],
      "text/plain": [
       "   sex  value  strata\n",
       "4    0   1025  0-1025\n",
       "2    0    142   0-142\n",
       "0    0     27    0-27\n",
       "3    1    295   1-295\n",
       "5    1    413   1-413\n",
       "1    1     55    1-55"
      ]
     },
     "execution_count": 3,
     "metadata": {},
     "output_type": "execute_result"
    }
   ],
   "source": [
    "df = pd.DataFrame({\n",
    "    'sex': [0, 1, 0, 1, 0, 1],\n",
    "    'value': [27, 55, 142, 295, 1025, 413]\n",
    "})\n",
    "df['strata'] = df['sex'].astype(str) + '-' + df['value'].astype(str)\n",
    "df = df.sort_values('strata')\n",
    "\n",
    "df"
   ]
  },
  {
   "cell_type": "code",
   "execution_count": null,
   "id": "5d30e539-6644-4a2e-8377-d2e6eb570b2d",
   "metadata": {},
   "outputs": [],
   "source": []
  }
 ],
 "metadata": {
  "kernelspec": {
   "display_name": "Python 3 (ipykernel)",
   "language": "python",
   "name": "python3"
  },
  "language_info": {
   "codemirror_mode": {
    "name": "ipython",
    "version": 3
   },
   "file_extension": ".py",
   "mimetype": "text/x-python",
   "name": "python",
   "nbconvert_exporter": "python",
   "pygments_lexer": "ipython3",
   "version": "3.13.5"
  }
 },
 "nbformat": 4,
 "nbformat_minor": 5
}
