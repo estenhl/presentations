{
 "cells": [
  {
   "cell_type": "code",
   "execution_count": null,
   "id": "0a80cb05-8a4b-4f1f-ba9b-418a66a025b7",
   "metadata": {},
   "outputs": [],
   "source": [
    "import numpy as np\n",
    "import pandas as pd\n",
    "\n",
    "def stratify(df, variables, num_folds=2):\n",
    "    df = df.copy()\n",
    "    \n",
    "    df['fold'] = -1\n",
    "    strata = df.groupby(['sex', 'diagnosis'])\n",
    "    \n",
    "    for idx in strata.indices.values():\n",
    "        df.loc[idx, 'fold'] = np.arange(len(idx)) % num_folds\n",
    "\n",
    "    return [\n",
    "        df[df['fold'] == fold].drop(columns='fold') \n",
    "        for fold in range(num_folds)\n",
    "    ]\n",
    "\n",
    "df = pd.DataFrame({\n",
    "    'sex': [0, 0, 0, 0, 1, 1, 1, 1], \n",
    "    'diagnosis': [0, 1, 0, 1, 0, 1, 0, 1]\n",
    "})\n",
    "\n",
    "folds = stratify(df, ['sex', 'diagnosis'], 2)\n",
    "\n",
    "for fold in folds:\n",
    "    print(fold)"
   ]
  },
  {
   "cell_type": "code",
   "execution_count": null,
   "id": "913b9061-f04e-4ec8-a652-6d21873adf38",
   "metadata": {},
   "outputs": [],
   "source": [
    "df = pd.DataFrame({\n",
    "    'sex': [0, 1, 0, 1, 0, 1],\n",
    "    'value': [27, 55, 142, 295, 1025, 413]\n",
    "})\n",
    "df['strata'] = df['sex'].astype(str) + '-' + df['value'].astype(str)\n",
    "df = df.sort_values('strata')\n",
    "\n",
    "df"
   ]
  },
  {
   "cell_type": "code",
   "execution_count": null,
   "id": "5d30e539-6644-4a2e-8377-d2e6eb570b2d",
   "metadata": {},
   "outputs": [],
   "source": []
  }
 ],
 "metadata": {
  "kernelspec": {
   "display_name": "Python 3 (ipykernel)",
   "language": "python",
   "name": "python3"
  },
  "language_info": {
   "codemirror_mode": {
    "name": "ipython",
    "version": 3
   },
   "file_extension": ".py",
   "mimetype": "text/x-python",
   "name": "python",
   "nbconvert_exporter": "python",
   "pygments_lexer": "ipython3",
   "version": "3.12.0"
  }
 },
 "nbformat": 4,
 "nbformat_minor": 5
}
