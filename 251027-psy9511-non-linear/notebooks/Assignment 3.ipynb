{
 "cells": [
  {
   "cell_type": "markdown",
   "id": "5f2d8a4d-f6ab-4e49-bbd0-7c75e80ec2f2",
   "metadata": {},
   "source": [
    "#### Assignment 0.1: Load the Auto dataset into R or Python."
   ]
  },
  {
   "cell_type": "code",
   "execution_count": 1,
   "id": "691d9fb8-63bc-426f-a093-26c0e32e5975",
   "metadata": {},
   "outputs": [],
   "source": [
    "import pandas as pd\n",
    "\n",
    "df = pd.read_csv('https://www.statlearning.com/s/Auto.csv')"
   ]
  },
  {
   "cell_type": "markdown",
   "id": "2f14eb5a-92a6-4ded-acd0-155b09d4de31",
   "metadata": {},
   "source": [
    "#### Assignment 0.2: Drop all variables except the (potential) predictors ['cylinders', 'displacement', 'horsepower', 'weight', 'acceleration', 'year'] and the target variable 'mpg'."
   ]
  },
  {
   "cell_type": "code",
   "execution_count": 2,
   "id": "c8cf7871-c4be-4bda-b907-a187c84e46ce",
   "metadata": {},
   "outputs": [],
   "source": [
    "predictors = ['cylinders', 'displacement', 'horsepower', 'weight', 'acceleration', 'year']\n",
    "target = 'mpg'\n",
    "\n",
    "df = df[predictors + [target]]"
   ]
  },
  {
   "cell_type": "markdown",
   "id": "b5df896f-779d-48ab-90ee-fe7be2120341",
   "metadata": {},
   "source": [
    "#### Assignment 0.3: Split the dataset into a training set (80%) and a validation set (20%). It is probably a good idea to set a random seed and shuffle the dataset prior to this."
   ]
  },
  {
   "cell_type": "code",
   "execution_count": 3,
   "id": "865bcd0c-4ba6-4cb5-853f-fb5d149358d6",
   "metadata": {},
   "outputs": [
    {
     "name": "stdout",
     "output_type": "stream",
     "text": [
      "Using 317 samples for training\n",
      "Using 80 samples for validation\n"
     ]
    }
   ],
   "source": [
    "import numpy as np\n",
    "\n",
    "np.random.seed(42)\n",
    "\n",
    "df = df.sample(frac=1.0)\n",
    "train_length = int(len(df) * 0.8)\n",
    "train = df[:train_length].copy()\n",
    "validation = df[train_length:].copy()\n",
    "\n",
    "print(f'Using {len(train)} samples for training')\n",
    "print(f'Using {len(validation)} samples for validation')"
   ]
  },
  {
   "cell_type": "markdown",
   "id": "c40661b4-9896-425b-8fde-a04cd05110cf",
   "metadata": {},
   "source": [
    "#### Assignment 0.4: Replace missing values (coded as '?') in the both datasets with the mean of the given variable in the training set."
   ]
  },
  {
   "cell_type": "code",
   "execution_count": 4,
   "id": "76c77371-3bd7-4ceb-a010-54c75871e4a0",
   "metadata": {},
   "outputs": [],
   "source": [
    "for column in train.columns:\n",
    "    if '?' in train[column].values or '?' in validation[column].values:\n",
    "        train_mean = np.nanmean(pd.to_numeric(train[column], errors='coerce'))\n",
    "        train.loc[train[column] == '?', column] = train_mean\n",
    "        validation.loc[validation[column] == '?', column] = train_mean"
   ]
  },
  {
   "cell_type": "markdown",
   "id": "cffd425a-055b-434e-aac2-20583fcd067e",
   "metadata": {},
   "source": [
    "#### Assignment 0.5: Standardize the predictors in the training set using z-score standardization.\n",
    "#### Assignment 0.6: Standardize the predictors in validation set based on the means and standard deviations from the training set."
   ]
  },
  {
   "cell_type": "code",
   "execution_count": 5,
   "id": "2b80251d-5852-47de-8aa6-6bee87391f43",
   "metadata": {},
   "outputs": [],
   "source": [
    "from sklearn.preprocessing import StandardScaler\n",
    "\n",
    "scaler = StandardScaler()\n",
    "train[predictors] = scaler.fit_transform(train[predictors])\n",
    "validation[predictors] = scaler.transform(validation[predictors])"
   ]
  },
  {
   "cell_type": "markdown",
   "id": "541573ee-0e83-4f9d-9d6e-46acdea77d62",
   "metadata": {},
   "source": [
    "#### Assignment 0.7: Reflection: Discuss briefly why it is a good idea (or even necessary?) to standardize the variables before fitting the LASSO models in assignment 2. Why do we mean-fill and standardize the validation set based on information from the training set?"
   ]
  },
  {
   "cell_type": "markdown",
   "id": "176f356b-e3e2-4c05-92ae-3650b6766d14",
   "metadata": {},
   "source": [
    "- We standardize the variables before the LASSO to ensure that predictors that might originally have different magnitudes are penalized equally\n",
    "- We mean-fill and standardize the validation set based on information from the training set to ensure they are preprocessed in a consistent ways (i.e. NA in both sets prior to preprocessing maps onto the same value after preprocessing) and to avoid data leakage"
   ]
  },
  {
   "cell_type": "markdown",
   "id": "b0e45bc6-fd54-4fb6-a49b-db301be8cba8",
   "metadata": {},
   "source": [
    "#### Assignment 1.1: Find the optimal set of predictors of size [6, 5, 4, 3, 2, 1] based on model performance using backwards stepwise selection. Print out each set."
   ]
  },
  {
   "cell_type": "code",
   "execution_count": 6,
   "id": "e9ef1d76-cd4c-4476-8185-1408b781250f",
   "metadata": {},
   "outputs": [
    {
     "name": "stdout",
     "output_type": "stream",
     "text": [
      "['cylinders', 'displacement', 'horsepower', 'weight', 'acceleration', 'year']\n",
      "['cylinders', 'displacement', 'weight', 'acceleration', 'year']\n",
      "['cylinders', 'weight', 'acceleration', 'year']\n",
      "['weight', 'acceleration', 'year']\n",
      "['weight', 'year']\n",
      "['weight']\n"
     ]
    }
   ],
   "source": [
    "from copy import copy\n",
    "from sklearn.linear_model import LinearRegression\n",
    "from sklearn.metrics import mean_squared_error\n",
    "\n",
    "\n",
    "current_predictors = copy(predictors)\n",
    "models = []\n",
    "\n",
    "def fit_and_validate(train, validation, predictors, target):\n",
    "    model = LinearRegression()\n",
    "    model.fit(train[predictors], train[target])\n",
    "    predictions = model.predict(validation[predictors])\n",
    "\n",
    "    return mean_squared_error(predictions, validation[target])\n",
    "\n",
    "def find_worst_predictor(train, validation, predictors, target):\n",
    "    best_mse = float('inf')\n",
    "    worst_predictor = None\n",
    "    \n",
    "    for candidate in predictors:\n",
    "        selected = [predictor for predictor in predictors if predictor != candidate]\n",
    "        mse = fit_and_validate(train, validation, selected, target)\n",
    "\n",
    "        if mse < best_mse:\n",
    "            best_mse = mse\n",
    "            worst_predictor = candidate\n",
    "\n",
    "    return worst_predictor \n",
    "\n",
    "while len(current_predictors) > 0:\n",
    "    print(current_predictors)\n",
    "    model = LinearRegression()\n",
    "    model.fit(train[current_predictors], train[target])\n",
    "    models.append(model)\n",
    "\n",
    "    if len(current_predictors) == 1:\n",
    "        break\n",
    "    \n",
    "    worst_predictor = find_worst_predictor(train, validation, current_predictors, target)\n",
    "    current_predictors = [\n",
    "        predictor for predictor in current_predictors if predictor != worst_predictor\n",
    "    ]"
   ]
  },
  {
   "cell_type": "markdown",
   "id": "914c08d2-e31d-40be-98ab-2cc724f91c2d",
   "metadata": {},
   "source": [
    "#### Assignment 1.2: Based on the models you have already trained, plot both training and validation MSE as a function of the number of predictors."
   ]
  },
  {
   "cell_type": "code",
   "execution_count": 7,
   "id": "ecf9212d-0904-48f4-82b7-81489bd14808",
   "metadata": {},
   "outputs": [
    {
     "data": {
      "image/png": "[encoded data removed]",
      "text/plain": [
       "<Figure size 640x480 with 1 Axes>"
      ]
     },
     "metadata": {},
     "output_type": "display_data"
    }
   ],
   "source": [
    "import matplotlib.pyplot as plt\n",
    "\n",
    "training_mses = [\n",
    "    mean_squared_error(model.predict(train[model.feature_names_in_]), train[target]) \n",
    "    for model in models\n",
    "]\n",
    "validation_mses = [\n",
    "    mean_squared_error(model.predict(validation[model.feature_names_in_]), validation[target]) \n",
    "    for model in models\n",
    "]\n",
    "\n",
    "plt.plot(np.arange(len(models)), training_mses, c='red', label='Train')\n",
    "plt.plot(np.arange(len(models)), validation_mses, c='blue', label='Validation')\n",
    "plt.show()"
   ]
  },
  {
   "cell_type": "markdown",
   "id": "23f10bc9-71b3-4eb9-9a26-ff5ba3c8a130",
   "metadata": {},
   "source": [
    "#### Assignment 1.3: Plot mpg predictions against actual mpg values for the validation set using the best model."
   ]
  },
  {
   "cell_type": "code",
   "execution_count": 8,
   "id": "bec4c350-b777-4c94-8cec-8757c2172a96",
   "metadata": {},
   "outputs": [
    {
     "name": "stdout",
     "output_type": "stream",
     "text": [
      "Best predictor set: ['weight' 'acceleration' 'year'] (MSE=11.78)\n"
     ]
    },
    {
     "data": {
      "image/png": "[encoded data removed]",
      "text/plain": [
       "<Figure size 640x480 with 1 Axes>"
      ]
     },
     "metadata": {},
     "output_type": "display_data"
    }
   ],
   "source": [
    "best_idx = np.argmin(validation_mses)\n",
    "best_model = models[best_idx]\n",
    "print(f'Best predictor set: {best_model.feature_names_in_} (MSE={validation_mses[best_idx]:.2f})')\n",
    "predictions = best_model.predict(validation[best_model.feature_names_in_])\n",
    "\n",
    "plt.scatter(validation[target], predictions)\n",
    "plt.show()"
   ]
  },
  {
   "cell_type": "markdown",
   "id": "1f487ad2-6722-460a-aa78-a8c6b1ef34d3",
   "metadata": {},
   "source": [
    "#### Assignment 1.4: Reflection: What is the best model based on training MSE? What about validation MSE? If they are different, reflect briefly on why. If not, could this happen? Why/why not?"
   ]
  },
  {
   "cell_type": "markdown",
   "id": "6c24561a-6eba-44a4-8dc9-ced7452e3f04",
   "metadata": {},
   "source": [
    "The best model based on training MSE will always be the model with the most predictors. This is not necessarily the case for the validation set, where there is a potential that more predictors lead to more overfitting. Thus, we expect the validation performance to follow a U-shaped curve as a function of the number of predictors"
   ]
  },
  {
   "cell_type": "markdown",
   "id": "b729cb3a-73d5-48a4-94e4-cc3b6e14e31d",
   "metadata": {},
   "source": [
    "#### Assignment 2.1: Fit a range of LASSO models to predict mpg using all the predictors, with eleven lambdas uniformly spaced between 0 and 10 (e.g. 0, 1, 2, ..., 9, 10)"
   ]
  },
  {
   "cell_type": "code",
   "execution_count": 9,
   "id": "611c46e1-0dde-4ee5-aa71-726d56a20b11",
   "metadata": {},
   "outputs": [],
   "source": [
    "from sklearn.linear_model import Lasso\n",
    "\n",
    "lambdas = np.arange(1, 11)\n",
    "\n",
    "models = []\n",
    "train_predictions = []\n",
    "validation_predictions = []\n",
    "\n",
    "for value in lambdas:\n",
    "    model = Lasso(alpha=value)\n",
    "    model.fit(train[predictors], train[target])\n",
    "    models.append(model)\n",
    "    train_predictions.append(model.predict(train[predictors]))\n",
    "    validation_predictions.append(model.predict(validation[predictors]))"
   ]
  },
  {
   "cell_type": "markdown",
   "id": "fc9388d6-1891-454c-b6e5-0457e0d87f77",
   "metadata": {},
   "source": [
    "#### Assignment 2.2: Plot the train and validation MSE as a function of the value of lambda"
   ]
  },
  {
   "cell_type": "code",
   "execution_count": 10,
   "id": "b97ade24-e6cb-4cbe-8cba-33c0980813b4",
   "metadata": {},
   "outputs": [
    {
     "data": {
      "image/png": "[encoded data removed]",
      "text/plain": [
       "<Figure size 640x480 with 1 Axes>"
      ]
     },
     "metadata": {},
     "output_type": "display_data"
    }
   ],
   "source": [
    "train_mses = [mean_squared_error(predictions, train[target]) for predictions in train_predictions]\n",
    "validation_mses = [\n",
    "    mean_squared_error(predictions, validation[target]) \n",
    "    for predictions in validation_predictions\n",
    "]\n",
    "\n",
    "plt.plot(np.arange(len(lambdas)), train_mses)\n",
    "plt.plot(np.arange(len(lambdas)), validation_mses)\n",
    "plt.show()"
   ]
  },
  {
   "cell_type": "markdown",
   "id": "79e18cec-b98e-4312-bf78-88ad779f1e32",
   "metadata": {},
   "source": [
    "#### Assignment 2.3: Using the values plotted in b), print the lambda yielding the best model based on training MSE and validation MSE, and their corresponding MSE values."
   ]
  },
  {
   "cell_type": "code",
   "execution_count": 11,
   "id": "6160f13b-7232-4ff9-8b5c-6872dc2b62b8",
   "metadata": {},
   "outputs": [
    {
     "name": "stdout",
     "output_type": "stream",
     "text": [
      "Best train lambda: 1 (13.173154234238629)\n",
      "Best train lambda: 1 (13.934642861305974)\n"
     ]
    }
   ],
   "source": [
    "best_train_idx = np.argmin(train_mses)\n",
    "print(f'Best train lambda: {lambdas[best_train_idx]} ({train_mses[best_train_idx]})')\n",
    "best_validation_idx = np.argmin(validation_mses)\n",
    "print(f'Best train lambda: {lambdas[best_validation_idx]} ({validation_mses[best_validation_idx]})')"
   ]
  },
  {
   "cell_type": "markdown",
   "id": "9e20e3a8-e122-4ff0-9216-7b0d35e44f62",
   "metadata": {},
   "source": [
    "#### Assignment 2.4: Reflection: Is the best model based on training MSE and validation MSE using the same lambda? If not, why not? What would be the general pattern we expect to see here?"
   ]
  },
  {
   "cell_type": "markdown",
   "id": "f5d8c1f8-81e7-44c0-94e3-3fde2e9f4728",
   "metadata": {},
   "source": [
    "The best model based on training MSE will always be the model with the lowest lambda, as this a lower lambda means the model is prioritizing fitting the (training) data better. This is not necessarily the case for the validation data, as a lower lambda is also prone to overfitting. Thus, we expect to see a U-shaped pattern if we plot the validation predictions as a function of lambda. In this specific case, the pattern we see doesn't really resemble a U. This is because the selection of lambdas is somewhat poor, and a more appropriate range could have been [0.1, 0.2, 0.3, ...] or something even smaller."
   ]
  },
  {
   "cell_type": "markdown",
   "id": "71a5428e-b1ef-4824-a3d9-2d7eb228f29a",
   "metadata": {},
   "source": [
    "#### Assignment 2.5: Plot predictions against actual values and for the validation set using the best model."
   ]
  },
  {
   "cell_type": "code",
   "execution_count": 12,
   "id": "f5e9be6d-3e46-45c7-8ff8-fae15fedef1c",
   "metadata": {},
   "outputs": [
    {
     "data": {
      "image/png": "[encoded data removed]",
      "text/plain": [
       "<Figure size 640x480 with 1 Axes>"
      ]
     },
     "metadata": {},
     "output_type": "display_data"
    }
   ],
   "source": [
    "plt.scatter(validation[target], validation_predictions[best_validation_idx])\n",
    "plt.show()"
   ]
  },
  {
   "cell_type": "markdown",
   "id": "ed4ba0f3-3ce4-4741-9928-372322b4a3b4",
   "metadata": {},
   "source": [
    "#### Assignment 2.6: Reflection: Is the best LASSO model better or worse than the best model found using backward stepwise selection? Discuss briefly why this is/is not the case."
   ]
  },
  {
   "cell_type": "markdown",
   "id": "abccaa8e-f6fd-494c-b6b0-907fde7f88a1",
   "metadata": {},
   "source": [
    "It is generally not necessarily so that the two methods find the same best model, as they approach the problem from very different angles. In addition to differences caused by this, it is worth emphasizing that the best model found using LASSO will also impose regularization on the variables that remain in the model, such that even when the predictor sets end up the same, the overall models will typically behave slightly differently. Whether this is beneficial or not will depend on the exact dataset at hand."
   ]
  },
  {
   "cell_type": "markdown",
   "id": "de96abf9-9c34-4970-b0f3-c7f4401b1ed4",
   "metadata": {},
   "source": [
    "#### Assignment 2.7: Print the names and coefficients of the predictors that are used by the LASSO model (e.g. not set to 0). How does this compare to the list you found using backwards stepwise selection?"
   ]
  },
  {
   "cell_type": "code",
   "execution_count": 121,
   "id": "10ab52b4-7699-4c8c-9348-8c8306be20f4",
   "metadata": {},
   "outputs": [
    {
     "name": "stdout",
     "output_type": "stream",
     "text": [
      "['weight', 'year']\n"
     ]
    }
   ],
   "source": [
    "best_model = models[best_validation_idx]\n",
    "print([\n",
    "    best_model.feature_names_in_[i] \n",
    "    for i in range(len(best_model.feature_names_in_))\n",
    "    if best_model.coef_[i] != 0\n",
    "])"
   ]
  }
 ],
 "metadata": {
  "kernelspec": {
   "display_name": "Python 3 (ipykernel)",
   "language": "python",
   "name": "python3"
  },
  "language_info": {
   "codemirror_mode": {
    "name": "ipython",
    "version": 3
   },
   "file_extension": ".py",
   "mimetype": "text/x-python",
   "name": "python",
   "nbconvert_exporter": "python",
   "pygments_lexer": "ipython3",
   "version": "3.13.5"
  }
 },
 "nbformat": 4,
 "nbformat_minor": 5
}
