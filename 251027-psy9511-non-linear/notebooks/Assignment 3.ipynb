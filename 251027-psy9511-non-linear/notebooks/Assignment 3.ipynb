{
 "cells": [
  {
   "cell_type": "markdown",
   "id": "5f2d8a4d-f6ab-4e49-bbd0-7c75e80ec2f2",
   "metadata": {},
   "source": [
    "#### Assignment 0.1: Load the Auto dataset into R or Python."
   ]
  },
  {
   "cell_type": "code",
   "execution_count": null,
   "id": "691d9fb8-63bc-426f-a093-26c0e32e5975",
   "metadata": {},
   "outputs": [],
   "source": [
    "import pandas as pd\n",
    "\n",
    "df = pd.read_csv('https://www.statlearning.com/s/Auto.csv')"
   ]
  },
  {
   "cell_type": "markdown",
   "id": "2f14eb5a-92a6-4ded-acd0-155b09d4de31",
   "metadata": {},
   "source": [
    "#### Assignment 0.2: Drop all variables except the (potential) predictors ['cylinders', 'displacement', 'horsepower', 'weight', 'acceleration', 'year'] and the target variable 'mpg'."
   ]
  },
  {
   "cell_type": "code",
   "execution_count": null,
   "id": "c8cf7871-c4be-4bda-b907-a187c84e46ce",
   "metadata": {},
   "outputs": [],
   "source": [
    "predictors = ['cylinders', 'displacement', 'horsepower', 'weight', 'acceleration', 'year']\n",
    "target = 'mpg'\n",
    "\n",
    "df = df[predictors + [target]]"
   ]
  },
  {
   "cell_type": "markdown",
   "id": "b5df896f-779d-48ab-90ee-fe7be2120341",
   "metadata": {},
   "source": [
    "#### Assignment 0.3: Split the dataset into a training set (80%) and a validation set (20%). It is probably a good idea to set a random seed and shuffle the dataset prior to this."
   ]
  },
  {
   "cell_type": "code",
   "execution_count": null,
   "id": "865bcd0c-4ba6-4cb5-853f-fb5d149358d6",
   "metadata": {},
   "outputs": [],
   "source": [
    "import numpy as np\n",
    "\n",
    "np.random.seed(42)\n",
    "\n",
    "df = df.sample(frac=1.0)\n",
    "train_length = int(len(df) * 0.8)\n",
    "train = df[:train_length].copy()\n",
    "validation = df[train_length:].copy()\n",
    "\n",
    "print(f'Using {len(train)} samples for training')\n",
    "print(f'Using {len(validation)} samples for validation')"
   ]
  },
  {
   "cell_type": "markdown",
   "id": "c40661b4-9896-425b-8fde-a04cd05110cf",
   "metadata": {},
   "source": [
    "#### Assignment 0.4: Replace missing values (coded as '?') in the both datasets with the mean of the given variable in the training set."
   ]
  },
  {
   "cell_type": "code",
   "execution_count": null,
   "id": "76c77371-3bd7-4ceb-a010-54c75871e4a0",
   "metadata": {},
   "outputs": [],
   "source": [
    "for column in train.columns:\n",
    "    if '?' in train[column].values or '?' in validation[column].values:\n",
    "        train_mean = np.nanmean(pd.to_numeric(train[column], errors='coerce'))\n",
    "        train.loc[train[column] == '?', column] = train_mean\n",
    "        validation.loc[validation[column] == '?', column] = train_mean"
   ]
  },
  {
   "cell_type": "markdown",
   "id": "cffd425a-055b-434e-aac2-20583fcd067e",
   "metadata": {},
   "source": [
    "#### Assignment 0.5: Standardize the predictors in the training set using z-score standardization.\n",
    "#### Assignment 0.6: Standardize the predictors in validation set based on the means and standard deviations from the training set."
   ]
  },
  {
   "cell_type": "code",
   "execution_count": null,
   "id": "2b80251d-5852-47de-8aa6-6bee87391f43",
   "metadata": {},
   "outputs": [],
   "source": [
    "from sklearn.preprocessing import StandardScaler\n",
    "\n",
    "scaler = StandardScaler()\n",
    "train[predictors] = scaler.fit_transform(train[predictors])\n",
    "validation[predictors] = scaler.transform(validation[predictors])"
   ]
  },
  {
   "cell_type": "markdown",
   "id": "541573ee-0e83-4f9d-9d6e-46acdea77d62",
   "metadata": {},
   "source": [
    "#### Assignment 0.7: Reflection: Discuss briefly why it is a good idea (or even necessary?) to standardize the variables before fitting the LASSO models in assignment 2. Why do we mean-fill and standardize the validation set based on information from the training set?"
   ]
  },
  {
   "cell_type": "code",
   "execution_count": null,
   "id": "5b17614c-bf65-4f75-a5cf-8bcf3546bcb8",
   "metadata": {},
   "outputs": [],
   "source": []
  },
  {
   "cell_type": "markdown",
   "id": "b0e45bc6-fd54-4fb6-a49b-db301be8cba8",
   "metadata": {},
   "source": [
    "#### Assignment 1.1: Find the optimal set of predictors of size [6, 5, 4, 3, 2, 1] based on model performance using backwards stepwise selection. Print out each set."
   ]
  },
  {
   "cell_type": "code",
   "execution_count": null,
   "id": "e9ef1d76-cd4c-4476-8185-1408b781250f",
   "metadata": {},
   "outputs": [],
   "source": []
  },
  {
   "cell_type": "markdown",
   "id": "914c08d2-e31d-40be-98ab-2cc724f91c2d",
   "metadata": {},
   "source": [
    "#### Assignment 1.2: Based on the models you have already trained, plot both training and validation MSE as a function of the number of predictors."
   ]
  },
  {
   "cell_type": "code",
   "execution_count": null,
   "id": "ecf9212d-0904-48f4-82b7-81489bd14808",
   "metadata": {},
   "outputs": [],
   "source": []
  },
  {
   "cell_type": "markdown",
   "id": "23f10bc9-71b3-4eb9-9a26-ff5ba3c8a130",
   "metadata": {},
   "source": [
    "#### Assignment 1.3: Plot mpg predictions against actual mpg values for the validation set using the best model."
   ]
  },
  {
   "cell_type": "code",
   "execution_count": null,
   "id": "bec4c350-b777-4c94-8cec-8757c2172a96",
   "metadata": {},
   "outputs": [],
   "source": []
  },
  {
   "cell_type": "markdown",
   "id": "1f487ad2-6722-460a-aa78-a8c6b1ef34d3",
   "metadata": {},
   "source": [
    "#### Assignment 1.4: Reflection: What is the best model based on training MSE? What about validation MSE? If they are different, reflect briefly on why. If not, could this happen? Why/why not?"
   ]
  },
  {
   "cell_type": "code",
   "execution_count": null,
   "id": "2b02d49e-bbaf-4dab-b7cb-cbdc54cd69d8",
   "metadata": {},
   "outputs": [],
   "source": []
  },
  {
   "cell_type": "markdown",
   "id": "b729cb3a-73d5-48a4-94e4-cc3b6e14e31d",
   "metadata": {},
   "source": [
    "#### Assignment 2.1: Fit a range of LASSO models to predict mpg using all the predictors, with eleven lambdas uniformly spaced between 0 and 10 (e.g. 0, 1, 2, ..., 9, 10)"
   ]
  },
  {
   "cell_type": "code",
   "execution_count": null,
   "id": "611c46e1-0dde-4ee5-aa71-726d56a20b11",
   "metadata": {},
   "outputs": [],
   "source": []
  },
  {
   "cell_type": "markdown",
   "id": "fc9388d6-1891-454c-b6e5-0457e0d87f77",
   "metadata": {},
   "source": [
    "#### Assignment 2.2: Plot the train and validation MSE as a function of the value of lambda"
   ]
  },
  {
   "cell_type": "code",
   "execution_count": null,
   "id": "b97ade24-e6cb-4cbe-8cba-33c0980813b4",
   "metadata": {},
   "outputs": [],
   "source": []
  },
  {
   "cell_type": "markdown",
   "id": "79e18cec-b98e-4312-bf78-88ad779f1e32",
   "metadata": {},
   "source": [
    "#### Assignment 2.3: Using the values plotted in b), print the lambda yielding the best model based on training MSE and validation MSE, and their corresponding MSE values."
   ]
  },
  {
   "cell_type": "code",
   "execution_count": null,
   "id": "6160f13b-7232-4ff9-8b5c-6872dc2b62b8",
   "metadata": {},
   "outputs": [],
   "source": []
  },
  {
   "cell_type": "markdown",
   "id": "9e20e3a8-e122-4ff0-9216-7b0d35e44f62",
   "metadata": {},
   "source": [
    "#### Assignment 2.4: Reflection: Is the best model based on training MSE and validation MSE using the same lambda? If not, why not? What would be the general pattern we expect to see here?"
   ]
  },
  {
   "cell_type": "code",
   "execution_count": null,
   "id": "c80b449c-116b-4f50-8819-40e671a0a667",
   "metadata": {},
   "outputs": [],
   "source": []
  },
  {
   "cell_type": "markdown",
   "id": "71a5428e-b1ef-4824-a3d9-2d7eb228f29a",
   "metadata": {},
   "source": [
    "#### Assignment 2.5: Plot predictions against actual values and for the validation set using the best model."
   ]
  },
  {
   "cell_type": "code",
   "execution_count": null,
   "id": "f5e9be6d-3e46-45c7-8ff8-fae15fedef1c",
   "metadata": {},
   "outputs": [],
   "source": []
  },
  {
   "cell_type": "markdown",
   "id": "ed4ba0f3-3ce4-4741-9928-372322b4a3b4",
   "metadata": {},
   "source": [
    "#### Assignment 2.6: Reflection: Is the best LASSO model better or worse than the best model found using backward stepwise selection? Discuss briefly why this is/is not the case."
   ]
  },
  {
   "cell_type": "code",
   "execution_count": null,
   "id": "aab9f3a9-a55d-44f5-9dd9-1e19530b0cfd",
   "metadata": {},
   "outputs": [],
   "source": []
  },
  {
   "cell_type": "markdown",
   "id": "de96abf9-9c34-4970-b0f3-c7f4401b1ed4",
   "metadata": {},
   "source": [
    "#### Assignment 2.7: Print the names and coefficients of the predictors that are used by the LASSO model (e.g. not set to 0). How does this compare to the list you found using backwards stepwise selection?"
   ]
  },
  {
   "cell_type": "code",
   "execution_count": null,
   "id": "10ab52b4-7699-4c8c-9348-8c8306be20f4",
   "metadata": {},
   "outputs": [],
   "source": []
  },
  {
   "cell_type": "code",
   "execution_count": null,
   "id": "0326b2d8-e9ab-4181-bb2d-5ab985d3ee83",
   "metadata": {},
   "outputs": [],
   "source": []
  }
 ],
 "metadata": {
  "kernelspec": {
   "display_name": "Python 3 (ipykernel)",
   "language": "python",
   "name": "python3"
  },
  "language_info": {
   "codemirror_mode": {
    "name": "ipython",
    "version": 3
   },
   "file_extension": ".py",
   "mimetype": "text/x-python",
   "name": "python",
   "nbconvert_exporter": "python",
   "pygments_lexer": "ipython3",
   "version": "3.12.0"
  }
 },
 "nbformat": 4,
 "nbformat_minor": 5
}
