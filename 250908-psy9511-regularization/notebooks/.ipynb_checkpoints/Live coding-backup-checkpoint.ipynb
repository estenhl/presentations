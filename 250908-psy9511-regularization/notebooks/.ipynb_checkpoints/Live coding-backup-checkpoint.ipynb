{
 "cells": [
  {
   "cell_type": "code",
   "execution_count": 1,
   "id": "a97a6aa7-4450-4fab-9c47-ad5baa964c56",
   "metadata": {},
   "outputs": [
    {
     "name": "stdout",
     "output_type": "stream",
     "text": [
      "313\n",
      "79\n"
     ]
    }
   ],
   "source": [
    "import pandas as pd\n",
    "\n",
    "df = pd.read_csv('~/Downloads/Auto.csv')\n",
    "\n",
    "predictors = ['weight', 'year']\n",
    "target = 'mpg'\n",
    "\n",
    "df = df.sample(frac=1.)\n",
    "train = df.iloc[:int(len(df) * 0.8)]\n",
    "test = df.iloc[int(len(df) * 0.8):]\n",
    "\n",
    "print(len(train))\n",
    "print(len(test))"
   ]
  },
  {
   "cell_type": "code",
   "execution_count": 2,
   "id": "960d1e54-84d9-46c0-ab1b-a80ad60a95f0",
   "metadata": {},
   "outputs": [
    {
     "name": "stderr",
     "output_type": "stream",
     "text": [
      "/var/folders/ps/g7dr3f8x0vnbdn4gn57pntfh0000gn/T/ipykernel_24940/2900016994.py:4: SettingWithCopyWarning: \n",
      "A value is trying to be set on a copy of a slice from a DataFrame.\n",
      "Try using .loc[row_indexer,col_indexer] = value instead\n",
      "\n",
      "See the caveats in the documentation: https://pandas.pydata.org/pandas-docs/stable/user_guide/indexing.html#returning-a-view-versus-a-copy\n",
      "  train[predictors] = scaler.fit_transform(train[predictors])\n",
      "/var/folders/ps/g7dr3f8x0vnbdn4gn57pntfh0000gn/T/ipykernel_24940/2900016994.py:5: SettingWithCopyWarning: \n",
      "A value is trying to be set on a copy of a slice from a DataFrame.\n",
      "Try using .loc[row_indexer,col_indexer] = value instead\n",
      "\n",
      "See the caveats in the documentation: https://pandas.pydata.org/pandas-docs/stable/user_guide/indexing.html#returning-a-view-versus-a-copy\n",
      "  test[predictors] = scaler.fit(test[predictors])\n"
     ]
    }
   ],
   "source": [
    "from sklearn.preprocessing import StandardScaler\n",
    "\n",
    "scaler = StandardScaler()\n",
    "train[predictors] = scaler.fit_transform(train[predictors])\n",
    "test[predictors] = scaler.fit(test[predictors])"
   ]
  },
  {
   "cell_type": "code",
   "execution_count": 4,
   "id": "df870b1f-8e33-4c1b-ac11-ba9111e0f730",
   "metadata": {},
   "outputs": [
    {
     "name": "stdout",
     "output_type": "stream",
     "text": [
      "-5.660077784734892\n",
      "-5.493979791074064\n",
      "-5.3381268869664655\n",
      "-5.191526984742723\n",
      "-5.053320189465001\n",
      "-4.922756471862808\n",
      "-4.799177859226116\n",
      "-4.682004091342501\n",
      "-4.570720963403603\n",
      "-4.464870773882491\n"
     ]
    }
   ],
   "source": [
    "import numpy as np\n",
    "from sklearn.linear_model import Ridge\n",
    "\n",
    "for alpha in np.arange(0, 100, 10):\n",
    "    model = Ridge(alpha=alpha)\n",
    "    model.fit(train[predictors], train[target])\n",
    "    print(model.coef_[0])"
   ]
  },
  {
   "cell_type": "code",
   "execution_count": null,
   "id": "64d71e3c-0299-4e2a-a38d-f293d5bb790a",
   "metadata": {},
   "outputs": [],
   "source": []
  }
 ],
 "metadata": {
  "kernelspec": {
   "display_name": "Python 3 (ipykernel)",
   "language": "python",
   "name": "python3"
  },
  "language_info": {
   "codemirror_mode": {
    "name": "ipython",
    "version": 3
   },
   "file_extension": ".py",
   "mimetype": "text/x-python",
   "name": "python",
   "nbconvert_exporter": "python",
   "pygments_lexer": "ipython3",
   "version": "3.13.5"
  }
 },
 "nbformat": 4,
 "nbformat_minor": 5
}
