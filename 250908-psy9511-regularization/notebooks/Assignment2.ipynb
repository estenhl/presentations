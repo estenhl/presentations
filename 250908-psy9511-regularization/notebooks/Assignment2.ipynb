{
 "cells": [
  {
   "cell_type": "code",
   "execution_count": 4,
   "id": "a97a6aa7-4450-4fab-9c47-ad5baa964c56",
   "metadata": {},
   "outputs": [
    {
     "name": "stdout",
     "output_type": "stream",
     "text": [
      "313\n",
      "79\n"
     ]
    }
   ],
   "source": [
    "import pandas as pd\n",
    "import numpy as np\n",
    "\n",
    "\n",
    "df = pd.read_csv('/Users/esten/Downloads/Auto.csv')\n",
    "df = df[df['horsepower'] != '?']\n",
    "df['muscle'] = df['horsepower'].apply(lambda x: 1 if x > np.mean(df['horsepower']) else 0)\n",
    "\n",
    "df = df.sample(frac=1.)\n",
    "train = df.iloc[:int(len(df) * 0.8)]\n",
    "test = df[int(len(df) * 0.8):]\n",
    "\n",
    "print(len(train))\n",
    "print(len(test))"
   ]
  },
  {
   "cell_type": "code",
   "execution_count": 8,
   "id": "8f91f28f-b4bc-4ed8-af70-7dff2fbb5e36",
   "metadata": {},
   "outputs": [
    {
     "name": "stdout",
     "output_type": "stream",
     "text": [
      "3.6134416026453122\n",
      "4.633656413994975\n"
     ]
    }
   ],
   "source": [
    "from sklearn.linear_model import LinearRegression\n",
    "from sklearn.metrics import mean_absolute_error\n",
    "\n",
    "\n",
    "model = LinearRegression()\n",
    "model.fit(train[['horsepower']], train['mpg'])\n",
    "\n",
    "train_predictions = model.predict(train[['horsepower']])\n",
    "train_mae = mean_absolute_error(train['mpg'], train_predictions)\n",
    "print(train_mae)\n",
    "test_predictions = model.predict(test[['horsepower']])\n",
    "test_mae = mean_absolute_error(test['mpg'], test_predictions)\n",
    "print(test_mae)"
   ]
  },
  {
   "cell_type": "code",
   "execution_count": 9,
   "id": "5783ca40-4e64-4b11-a576-0f47dfa8860f",
   "metadata": {},
   "outputs": [
    {
     "name": "stdout",
     "output_type": "stream",
     "text": [
      "3.184513572530778\n",
      "3.506182158741798\n"
     ]
    }
   ],
   "source": [
    "model = LinearRegression()\n",
    "model.fit(train[['horsepower', 'weight', 'displacement']], train['mpg'])\n",
    "\n",
    "train_predictions = model.predict(train[['horsepower', 'weight', 'displacement']])\n",
    "train_mae = mean_absolute_error(train['mpg'], train_predictions)\n",
    "print(train_mae)\n",
    "test_predictions = model.predict(test[['horsepower', 'weight', 'displacement']])\n",
    "test_mae = mean_absolute_error(test['mpg'], test_predictions)\n",
    "print(test_mae)"
   ]
  },
  {
   "cell_type": "code",
   "execution_count": null,
   "id": "a68c095e-a870-4b3c-9bfa-985b6f86bc1a",
   "metadata": {},
   "outputs": [],
   "source": []
  }
 ],
 "metadata": {
  "kernelspec": {
   "display_name": "Python 3 (ipykernel)",
   "language": "python",
   "name": "python3"
  },
  "language_info": {
   "codemirror_mode": {
    "name": "ipython",
    "version": 3
   },
   "file_extension": ".py",
   "mimetype": "text/x-python",
   "name": "python",
   "nbconvert_exporter": "python",
   "pygments_lexer": "ipython3",
   "version": "3.13.5"
  }
 },
 "nbformat": 4,
 "nbformat_minor": 5
}
