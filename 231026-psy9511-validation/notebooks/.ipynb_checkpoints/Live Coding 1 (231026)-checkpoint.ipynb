{
 "cells": [
  {
   "cell_type": "code",
   "execution_count": 4,
   "id": "04dc7f36",
   "metadata": {},
   "outputs": [
    {
     "name": "stdout",
     "output_type": "stream",
     "text": [
      "Train cylinders: 1.509903313490213e-16+/-0.997496867163\n",
      "Test cylinders: -0.11349301922529652+/-0.9673469206183414\n",
      "Train weight: 8.881784197001253e-18+/-0.9974968671630001\n",
      "Test weight: -0.09900563588618118+/-0.960198359532701\n",
      "Train year: 3.019806626980426e-16+/-0.9974968671630003\n",
      "Test year: 0.08882785295944587+/-0.9803484794345594\n"
     ]
    }
   ],
   "source": [
    "import numpy as np \n",
    "import pandas as pd\n",
    "\n",
    "df = pd.read_csv('~/Downloads/Auto.csv') \n",
    "df = df.replace('?', np.nan)\n",
    "df = df.sample(frac=1.)\n",
    "train = df.iloc[:200].copy() \n",
    "test = df.iloc[300:].copy()\n",
    "\n",
    "test['cylinders'] = (test['cylinders'] - train['cylinders'].mean()) / train['cylinders'].std() \n",
    "train['cylinders'] = (train['cylinders'] - train['cylinders'].mean()) / train['cylinders'].std() \n",
    "test['weight'] = (test['weight'] - train['weight'].mean()) / train['weight'].std() \n",
    "train['weight'] = (train['weight'] - train['weight'].mean()) / train['weight'].std() \n",
    "test['year'] = (test['year'] - train['year'].mean()) / train['year'].std()\n",
    "train['year'] = (train['year'] - train['year'].mean()) / train['year'].std()\n",
    "\n",
    "for column in ['cylinders', 'weight', 'year']:\n",
    "    print(f'Train {column}: {np.mean(train[column])}+/-{np.std(train[column])}')\n",
    "    print(f'Test {column}: {np.mean(test[column])}+/-{np.std(test[column])}')"
   ]
  },
  {
   "cell_type": "code",
   "execution_count": 5,
   "id": "2b7b73a6",
   "metadata": {},
   "outputs": [],
   "source": [
    "import numpy as np \n",
    "import pandas as pd\n",
    "\n",
    "df = pd.read_csv('~/Downloads/Auto.csv') \n",
    "df = df.replace('?', np.nan)\n",
    "df = df.sample(frac=1.)\n",
    "train = df.iloc[:200].copy() \n",
    "test = df.iloc[300:].copy()\n",
    "\n",
    "def standardize(train, test, column):\n",
    "    test[column] = (test[column] - train[column].mean()) / train[column].std() \n",
    "    train[column] = (train[column] - train[column].mean()) / train[column].std() \n",
    "    \n",
    "    return train, test\n",
    "\n",
    "\n",
    "for column ['cylinders', 'weight', 'year']:\n",
    "    train, test = standardize(train, test, column)"
   ]
  },
  {
   "cell_type": "code",
   "execution_count": null,
   "id": "91b3dfd0",
   "metadata": {},
   "outputs": [],
   "source": []
  }
 ],
 "metadata": {
  "kernelspec": {
   "display_name": "Python 3 (ipykernel)",
   "language": "python",
   "name": "python3"
  },
  "language_info": {
   "codemirror_mode": {
    "name": "ipython",
    "version": 3
   },
   "file_extension": ".py",
   "mimetype": "text/x-python",
   "name": "python",
   "nbconvert_exporter": "python",
   "pygments_lexer": "ipython3",
   "version": "3.10.9"
  }
 },
 "nbformat": 4,
 "nbformat_minor": 5
}
