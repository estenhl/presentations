{
 "cells": [
  {
   "cell_type": "code",
   "execution_count": 13,
   "id": "e9f4b885",
   "metadata": {},
   "outputs": [],
   "source": [
    "import numpy as np\n",
    "import pandas as pd\n",
    "\n",
    "df = pd.read_csv('~/Downloads/Auto.csv')\n",
    "df = df.replace('?', np.nan)\n",
    "train = df.iloc[:200].copy()\n",
    "test = df.iloc[300:].copy()\n",
    "\n",
    "test['cylinders'] = (test['cylinders'] - train['cylinders'].mean()) \\\n",
    "                     - train['cylinders'].std()\n",
    "train['cylinders'] = (train['cylinders'] - train['cylinders'].mean()) \\\n",
    "                      - train['cylinders'].std()\n",
    "test['displacement'] = (test['displacement'] - train['displacement'].mean()) \\\n",
    "                       - train['displacement'].std()\n",
    "train['displacement'] = (train['displacement'] - train['displacement'].mean()) \\\n",
    "                        - train['displacement'].std()\n",
    "test['weight'] = (test['weight'] - test['weight'].mean()) \\\n",
    "                       - test['weight'].std()\n",
    "train['weight'] = (train['weight'] - train['weight'].mean()) \\\n",
    "                       - train['weight'].std()"
   ]
  },
  {
   "cell_type": "code",
   "execution_count": 14,
   "id": "865b8351",
   "metadata": {},
   "outputs": [],
   "source": [
    "import numpy as np\n",
    "import pandas as pd\n",
    "\n",
    "df = pd.read_csv('~/Downloads/Auto.csv')\n",
    "df = df.replace('?', np.nan)\n",
    "train = df.iloc[:200].copy()\n",
    "test = df.iloc[300:].copy()\n",
    "\n",
    "def standardize(train: pd.DataFrame, test: pd.DataFrame,\n",
    "                column: str):\n",
    "    train = train.copy()\n",
    "    test = test.copy()\n",
    "    \n",
    "    test[column] = (test[column] - train[column].mean()) \\\n",
    "                       - train[column].std()\n",
    "    \n",
    "    return train, test\n",
    "    \n",
    "train, test = standardize(train, test, column='cylinders')\n",
    "train, test = standardize(train, test, column='displacement')\n",
    "train, test = standardize(train, test, column='weight')"
   ]
  },
  {
   "cell_type": "code",
   "execution_count": 15,
   "id": "2bb816b5",
   "metadata": {},
   "outputs": [],
   "source": [
    "import numpy as np\n",
    "import pandas as pd\n",
    "\n",
    "df = pd.read_csv('~/Downloads/Auto.csv')\n",
    "df = df.replace('?', np.nan)\n",
    "train = df.iloc[:200].copy()\n",
    "test = df.iloc[300:].copy()\n",
    "\n",
    "def standardize(train: pd.DataFrame, test: pd.DataFrame,\n",
    "                column: str):\n",
    "    train = train.copy()\n",
    "    test = test.copy()\n",
    "    \n",
    "    test[column] = (test[column] - train[column].mean()) \\\n",
    "                       - train[column].std()\n",
    "    \n",
    "    return train, test\n",
    "    \n",
    "for column in ['cylinders', 'displacement', 'weight']:\n",
    "    train, test = standardize(train, test, column=column)"
   ]
  },
  {
   "cell_type": "code",
   "execution_count": 21,
   "id": "20f7b44e",
   "metadata": {},
   "outputs": [
    {
     "name": "stdout",
     "output_type": "stream",
     "text": [
      "23.49622641509434\n",
      "23.59493670886076\n"
     ]
    }
   ],
   "source": [
    "df = pd.read_csv('~/Downloads/Auto.csv')\n",
    "df = df.sort_values(['mpg', 'displacement'])\n",
    "\n",
    "df['fold'] = np.arange(len(df)) % \n",
    "train = df[df['fold'] != 4]\n",
    "val = df[df['fold'] == 4]\n",
    "print(np.mean(train['mpg']))\n",
    "print(np.mean(val['mpg']))"
   ]
  },
  {
   "cell_type": "code",
   "execution_count": 23,
   "id": "49c94908",
   "metadata": {},
   "outputs": [
    {
     "data": {
      "text/plain": [
       "5.0"
      ]
     },
     "execution_count": 23,
     "metadata": {},
     "output_type": "execute_result"
    }
   ],
   "source": [
    "1/0.2"
   ]
  },
  {
   "cell_type": "code",
   "execution_count": null,
   "id": "2b46a157",
   "metadata": {},
   "outputs": [],
   "source": []
  }
 ],
 "metadata": {
  "kernelspec": {
   "display_name": "Python 3 (ipykernel)",
   "language": "python",
   "name": "python3"
  },
  "language_info": {
   "codemirror_mode": {
    "name": "ipython",
    "version": 3
   },
   "file_extension": ".py",
   "mimetype": "text/x-python",
   "name": "python",
   "nbconvert_exporter": "python",
   "pygments_lexer": "ipython3",
   "version": "3.10.9"
  }
 },
 "nbformat": 4,
 "nbformat_minor": 5
}
